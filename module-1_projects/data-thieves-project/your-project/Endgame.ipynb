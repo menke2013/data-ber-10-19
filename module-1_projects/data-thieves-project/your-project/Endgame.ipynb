{
 "cells": [
  {
   "cell_type": "code",
   "execution_count": 1,
   "metadata": {},
   "outputs": [],
   "source": [
    "import requests\n",
    "import pandas as pd\n",
    "import numpy as np\n",
    "import json\n",
    "import matplotlib"
   ]
  },
  {
   "cell_type": "code",
   "execution_count": 2,
   "metadata": {},
   "outputs": [],
   "source": [
    "# starting with getting the data von sportradar\n",
    "\n",
    "url = 'https://api.sportradar.us/nba/trial/v7/en/league/hierarchy.json?api_key=9cn8jgzchymqy9b2qnw28vhh'\n",
    "spora1 = requests.get(url)"
   ]
  },
  {
   "cell_type": "code",
   "execution_count": 3,
   "metadata": {},
   "outputs": [],
   "source": [
    "leag = spora1.json()"
   ]
  },
  {
   "cell_type": "code",
   "execution_count": 4,
   "metadata": {},
   "outputs": [],
   "source": [
    "# in leag we find the id's for Houston and Milwaukee\n",
    "#houston = 583ecb3a-fb46-11e1-82cb-f4ce4684ea4c\n",
    "#milwaukee = 583ecefd-fb46-11e1-82cb-f4ce4684ea4c"
   ]
  },
  {
   "cell_type": "code",
   "execution_count": 5,
   "metadata": {},
   "outputs": [],
   "source": [
    "#Getting the player id's from the team roster\n",
    "#Houston first\n",
    "\n",
    "url = 'https://api.sportradar.us/nba/trial/v7/en/teams/583ecb3a-fb46-11e1-82cb-f4ce4684ea4c/profile.json?api_key=9cn8jgzchymqy9b2qnw28vhh'\n",
    "houston= requests.get(url)"
   ]
  },
  {
   "cell_type": "code",
   "execution_count": 6,
   "metadata": {},
   "outputs": [],
   "source": [
    "houston2 = houston.json()"
   ]
  },
  {
   "cell_type": "code",
   "execution_count": 7,
   "metadata": {},
   "outputs": [],
   "source": [
    "# Westbrook ID 74a45eed-f2b0-4886-ae71-d04cf7d59528\n",
    "# James ID a52b2c84-9c3d-4d6e-8a3b-10e75d11c2bc"
   ]
  },
  {
   "cell_type": "code",
   "execution_count": 8,
   "metadata": {},
   "outputs": [],
   "source": [
    "#now Milwaukee\n",
    "\n",
    "url = 'https://api.sportradar.us/nba/trial/v7/en/teams/583ecefd-fb46-11e1-82cb-f4ce4684ea4c/profile.json?api_key=9cn8jgzchymqy9b2qnw28vhh'\n",
    "milwaukee= requests.get(url)"
   ]
  },
  {
   "cell_type": "code",
   "execution_count": 9,
   "metadata": {},
   "outputs": [],
   "source": [
    "milwaukee2 = milwaukee.json()"
   ]
  },
  {
   "cell_type": "code",
   "execution_count": 11,
   "metadata": {},
   "outputs": [],
   "source": [
    "# Giannis ID  6c60282d-165a-4cba-8e5a-4f2d9d4c5905"
   ]
  },
  {
   "cell_type": "code",
   "execution_count": 12,
   "metadata": {},
   "outputs": [],
   "source": [
    "# Russell stats from sportradar\n",
    "\n",
    "url = 'https://api.sportradar.us/nba/trial/v7/en/players/74a45eed-f2b0-4886-ae71-d04cf7d59528/profile.json?api_key=9cn8jgzchymqy9b2qnw28vhh'\n",
    "russ1= requests.get(url)"
   ]
  },
  {
   "cell_type": "code",
   "execution_count": 13,
   "metadata": {},
   "outputs": [],
   "source": [
    "russ2 = russ1.json()\n",
    "russ3 = russ2['seasons'].copy()\n",
    "dfruss1 =pd.DataFrame()"
   ]
  },
  {
   "cell_type": "code",
   "execution_count": 14,
   "metadata": {},
   "outputs": [],
   "source": [
    "for i in range(len(russ3)):\n",
    "    russ4 = russ3[i]['teams']\n",
    "    dfruss1 = dfruss1.append(russ4[0]['average'], ignore_index=True)"
   ]
  },
  {
   "cell_type": "code",
   "execution_count": 15,
   "metadata": {},
   "outputs": [],
   "source": [
    "rename_list = dfruss1.keys()\n",
    "dic_rename = {}\n",
    "\n",
    "for i in range(len(rename_list)):\n",
    "    var_a = rename_list[i] + '_pG'\n",
    "    dic_rename.update({rename_list[i]:var_a})"
   ]
  },
  {
   "cell_type": "code",
   "execution_count": 16,
   "metadata": {},
   "outputs": [],
   "source": [
    "dfruss1.rename(dic_rename, axis=1, inplace=True)"
   ]
  },
  {
   "cell_type": "code",
   "execution_count": 17,
   "metadata": {},
   "outputs": [],
   "source": [
    "#now get the data for James Harden"
   ]
  },
  {
   "cell_type": "code",
   "execution_count": 18,
   "metadata": {},
   "outputs": [],
   "source": [
    "url = 'https://api.sportradar.us/nba/trial/v7/en/players/a52b2c84-9c3d-4d6e-8a3b-10e75d11c2bc/profile.json?api_key=9cn8jgzchymqy9b2qnw28vhh'\n",
    "harden1= requests.get(url)"
   ]
  },
  {
   "cell_type": "code",
   "execution_count": 19,
   "metadata": {},
   "outputs": [],
   "source": [
    "harden2 = harden1.json()\n",
    "harden3 = harden2['seasons'].copy()\n",
    "dfharden1 =pd.DataFrame()"
   ]
  },
  {
   "cell_type": "code",
   "execution_count": 20,
   "metadata": {},
   "outputs": [],
   "source": [
    "for i in range(len(harden3)):\n",
    "    harden4 = harden3[i]['teams']\n",
    "    dfharden1 = dfharden1.append(harden4[0]['average'], ignore_index=True)"
   ]
  },
  {
   "cell_type": "code",
   "execution_count": 21,
   "metadata": {},
   "outputs": [],
   "source": [
    "dfharden1.rename(dic_rename, axis=1, inplace=True)"
   ]
  },
  {
   "cell_type": "code",
   "execution_count": 22,
   "metadata": {},
   "outputs": [],
   "source": [
    "# get the Giannis sportradar data"
   ]
  },
  {
   "cell_type": "code",
   "execution_count": 23,
   "metadata": {},
   "outputs": [],
   "source": [
    "url = 'https://api.sportradar.us/nba/trial/v7/en/players/6c60282d-165a-4cba-8e5a-4f2d9d4c5905/profile.json?api_key=9cn8jgzchymqy9b2qnw28vhh'\n",
    "giannis1= requests.get(url)"
   ]
  },
  {
   "cell_type": "code",
   "execution_count": 24,
   "metadata": {},
   "outputs": [],
   "source": [
    "giannis2 = giannis1.json()\n",
    "giannis3 = giannis2['seasons'].copy()\n",
    "dfgiannis1 =pd.DataFrame()"
   ]
  },
  {
   "cell_type": "code",
   "execution_count": 25,
   "metadata": {},
   "outputs": [],
   "source": [
    "for i in range(len(giannis3)):\n",
    "    giannis4 = giannis3[i]['teams']\n",
    "    dfgiannis1 = dfgiannis1.append(giannis4[0]['average'], ignore_index=True)"
   ]
  },
  {
   "cell_type": "code",
   "execution_count": 26,
   "metadata": {},
   "outputs": [],
   "source": [
    "dfgiannis1.rename(dic_rename, axis=1, inplace=True)"
   ]
  },
  {
   "cell_type": "code",
   "execution_count": 27,
   "metadata": {},
   "outputs": [
    {
     "data": {
      "text/html": [
       "<div>\n",
       "<style scoped>\n",
       "    .dataframe tbody tr th:only-of-type {\n",
       "        vertical-align: middle;\n",
       "    }\n",
       "\n",
       "    .dataframe tbody tr th {\n",
       "        vertical-align: top;\n",
       "    }\n",
       "\n",
       "    .dataframe thead th {\n",
       "        text-align: right;\n",
       "    }\n",
       "</style>\n",
       "<table border=\"1\" class=\"dataframe\">\n",
       "  <thead>\n",
       "    <tr style=\"text-align: right;\">\n",
       "      <th></th>\n",
       "      <th>assists_pG</th>\n",
       "      <th>blocked_att_pG</th>\n",
       "      <th>blocks_pG</th>\n",
       "      <th>def_rebounds_pG</th>\n",
       "      <th>efficiency_pG</th>\n",
       "      <th>fast_break_att_pG</th>\n",
       "      <th>fast_break_made_pG</th>\n",
       "      <th>fast_break_pts_pG</th>\n",
       "      <th>field_goals_att_pG</th>\n",
       "      <th>field_goals_made_pG</th>\n",
       "      <th>...</th>\n",
       "      <th>second_chance_att_pG</th>\n",
       "      <th>second_chance_made_pG</th>\n",
       "      <th>second_chance_pts_pG</th>\n",
       "      <th>steals_pG</th>\n",
       "      <th>three_points_att_pG</th>\n",
       "      <th>three_points_made_pG</th>\n",
       "      <th>true_shooting_att_pG</th>\n",
       "      <th>turnovers_pG</th>\n",
       "      <th>two_points_att_pG</th>\n",
       "      <th>two_points_made_pG</th>\n",
       "    </tr>\n",
       "  </thead>\n",
       "  <tbody>\n",
       "    <tr>\n",
       "      <th>0</th>\n",
       "      <td>7.6</td>\n",
       "      <td>1.13</td>\n",
       "      <td>1.63</td>\n",
       "      <td>12.13</td>\n",
       "      <td>38.50</td>\n",
       "      <td>3.63</td>\n",
       "      <td>2.50</td>\n",
       "      <td>6.38</td>\n",
       "      <td>17.75</td>\n",
       "      <td>10.50</td>\n",
       "      <td>...</td>\n",
       "      <td>1.38</td>\n",
       "      <td>1.25</td>\n",
       "      <td>3.38</td>\n",
       "      <td>1.25</td>\n",
       "      <td>3.75</td>\n",
       "      <td>1.00</td>\n",
       "      <td>22.59</td>\n",
       "      <td>4.00</td>\n",
       "      <td>14.00</td>\n",
       "      <td>9.50</td>\n",
       "    </tr>\n",
       "    <tr>\n",
       "      <th>1</th>\n",
       "      <td>5.9</td>\n",
       "      <td>1.39</td>\n",
       "      <td>1.53</td>\n",
       "      <td>10.26</td>\n",
       "      <td>35.25</td>\n",
       "      <td>2.31</td>\n",
       "      <td>1.69</td>\n",
       "      <td>4.68</td>\n",
       "      <td>17.32</td>\n",
       "      <td>10.01</td>\n",
       "      <td>...</td>\n",
       "      <td>1.83</td>\n",
       "      <td>1.15</td>\n",
       "      <td>2.93</td>\n",
       "      <td>1.28</td>\n",
       "      <td>2.82</td>\n",
       "      <td>0.72</td>\n",
       "      <td>21.51</td>\n",
       "      <td>3.72</td>\n",
       "      <td>14.50</td>\n",
       "      <td>9.29</td>\n",
       "    </tr>\n",
       "    <tr>\n",
       "      <th>2</th>\n",
       "      <td>4.8</td>\n",
       "      <td>1.13</td>\n",
       "      <td>1.41</td>\n",
       "      <td>7.96</td>\n",
       "      <td>30.75</td>\n",
       "      <td>2.51</td>\n",
       "      <td>1.77</td>\n",
       "      <td>4.72</td>\n",
       "      <td>18.69</td>\n",
       "      <td>9.89</td>\n",
       "      <td>...</td>\n",
       "      <td>2.04</td>\n",
       "      <td>1.23</td>\n",
       "      <td>3.04</td>\n",
       "      <td>1.45</td>\n",
       "      <td>1.87</td>\n",
       "      <td>0.57</td>\n",
       "      <td>22.45</td>\n",
       "      <td>2.97</td>\n",
       "      <td>16.83</td>\n",
       "      <td>9.32</td>\n",
       "    </tr>\n",
       "    <tr>\n",
       "      <th>3</th>\n",
       "      <td>5.4</td>\n",
       "      <td>0.88</td>\n",
       "      <td>1.89</td>\n",
       "      <td>6.98</td>\n",
       "      <td>28.38</td>\n",
       "      <td>0.00</td>\n",
       "      <td>0.00</td>\n",
       "      <td>0.00</td>\n",
       "      <td>15.74</td>\n",
       "      <td>8.20</td>\n",
       "      <td>...</td>\n",
       "      <td>0.00</td>\n",
       "      <td>0.00</td>\n",
       "      <td>0.13</td>\n",
       "      <td>1.64</td>\n",
       "      <td>2.25</td>\n",
       "      <td>0.61</td>\n",
       "      <td>19.10</td>\n",
       "      <td>2.93</td>\n",
       "      <td>13.49</td>\n",
       "      <td>7.59</td>\n",
       "    </tr>\n",
       "    <tr>\n",
       "      <th>4</th>\n",
       "      <td>4.3</td>\n",
       "      <td>0.78</td>\n",
       "      <td>1.41</td>\n",
       "      <td>6.24</td>\n",
       "      <td>21.16</td>\n",
       "      <td>0.00</td>\n",
       "      <td>0.00</td>\n",
       "      <td>0.00</td>\n",
       "      <td>12.66</td>\n",
       "      <td>6.41</td>\n",
       "      <td>...</td>\n",
       "      <td>0.00</td>\n",
       "      <td>0.00</td>\n",
       "      <td>0.04</td>\n",
       "      <td>1.18</td>\n",
       "      <td>1.36</td>\n",
       "      <td>0.35</td>\n",
       "      <td>14.91</td>\n",
       "      <td>2.60</td>\n",
       "      <td>11.30</td>\n",
       "      <td>6.06</td>\n",
       "    </tr>\n",
       "    <tr>\n",
       "      <th>5</th>\n",
       "      <td>2.6</td>\n",
       "      <td>0.80</td>\n",
       "      <td>1.05</td>\n",
       "      <td>5.46</td>\n",
       "      <td>15.77</td>\n",
       "      <td>0.00</td>\n",
       "      <td>0.00</td>\n",
       "      <td>0.00</td>\n",
       "      <td>9.63</td>\n",
       "      <td>4.73</td>\n",
       "      <td>...</td>\n",
       "      <td>0.00</td>\n",
       "      <td>0.00</td>\n",
       "      <td>0.05</td>\n",
       "      <td>0.90</td>\n",
       "      <td>0.54</td>\n",
       "      <td>0.09</td>\n",
       "      <td>11.51</td>\n",
       "      <td>2.14</td>\n",
       "      <td>9.09</td>\n",
       "      <td>4.64</td>\n",
       "    </tr>\n",
       "    <tr>\n",
       "      <th>6</th>\n",
       "      <td>1.9</td>\n",
       "      <td>0.38</td>\n",
       "      <td>0.79</td>\n",
       "      <td>3.39</td>\n",
       "      <td>9.14</td>\n",
       "      <td>0.00</td>\n",
       "      <td>0.00</td>\n",
       "      <td>0.00</td>\n",
       "      <td>5.43</td>\n",
       "      <td>2.25</td>\n",
       "      <td>...</td>\n",
       "      <td>0.00</td>\n",
       "      <td>0.00</td>\n",
       "      <td>0.03</td>\n",
       "      <td>0.78</td>\n",
       "      <td>1.53</td>\n",
       "      <td>0.53</td>\n",
       "      <td>6.58</td>\n",
       "      <td>1.58</td>\n",
       "      <td>3.90</td>\n",
       "      <td>1.71</td>\n",
       "    </tr>\n",
       "  </tbody>\n",
       "</table>\n",
       "<p>7 rows × 34 columns</p>\n",
       "</div>"
      ],
      "text/plain": [
       "   assists_pG  blocked_att_pG  blocks_pG  def_rebounds_pG  efficiency_pG  \\\n",
       "0         7.6            1.13       1.63            12.13          38.50   \n",
       "1         5.9            1.39       1.53            10.26          35.25   \n",
       "2         4.8            1.13       1.41             7.96          30.75   \n",
       "3         5.4            0.88       1.89             6.98          28.38   \n",
       "4         4.3            0.78       1.41             6.24          21.16   \n",
       "5         2.6            0.80       1.05             5.46          15.77   \n",
       "6         1.9            0.38       0.79             3.39           9.14   \n",
       "\n",
       "   fast_break_att_pG  fast_break_made_pG  fast_break_pts_pG  \\\n",
       "0               3.63                2.50               6.38   \n",
       "1               2.31                1.69               4.68   \n",
       "2               2.51                1.77               4.72   \n",
       "3               0.00                0.00               0.00   \n",
       "4               0.00                0.00               0.00   \n",
       "5               0.00                0.00               0.00   \n",
       "6               0.00                0.00               0.00   \n",
       "\n",
       "   field_goals_att_pG  field_goals_made_pG  ...  second_chance_att_pG  \\\n",
       "0               17.75                10.50  ...                  1.38   \n",
       "1               17.32                10.01  ...                  1.83   \n",
       "2               18.69                 9.89  ...                  2.04   \n",
       "3               15.74                 8.20  ...                  0.00   \n",
       "4               12.66                 6.41  ...                  0.00   \n",
       "5                9.63                 4.73  ...                  0.00   \n",
       "6                5.43                 2.25  ...                  0.00   \n",
       "\n",
       "   second_chance_made_pG  second_chance_pts_pG  steals_pG  \\\n",
       "0                   1.25                  3.38       1.25   \n",
       "1                   1.15                  2.93       1.28   \n",
       "2                   1.23                  3.04       1.45   \n",
       "3                   0.00                  0.13       1.64   \n",
       "4                   0.00                  0.04       1.18   \n",
       "5                   0.00                  0.05       0.90   \n",
       "6                   0.00                  0.03       0.78   \n",
       "\n",
       "   three_points_att_pG  three_points_made_pG  true_shooting_att_pG  \\\n",
       "0                 3.75                  1.00                 22.59   \n",
       "1                 2.82                  0.72                 21.51   \n",
       "2                 1.87                  0.57                 22.45   \n",
       "3                 2.25                  0.61                 19.10   \n",
       "4                 1.36                  0.35                 14.91   \n",
       "5                 0.54                  0.09                 11.51   \n",
       "6                 1.53                  0.53                  6.58   \n",
       "\n",
       "   turnovers_pG  two_points_att_pG  two_points_made_pG  \n",
       "0          4.00              14.00                9.50  \n",
       "1          3.72              14.50                9.29  \n",
       "2          2.97              16.83                9.32  \n",
       "3          2.93              13.49                7.59  \n",
       "4          2.60              11.30                6.06  \n",
       "5          2.14               9.09                4.64  \n",
       "6          1.58               3.90                1.71  \n",
       "\n",
       "[7 rows x 34 columns]"
      ]
     },
     "execution_count": 27,
     "metadata": {},
     "output_type": "execute_result"
    }
   ],
   "source": [
    "dfgiannis1"
   ]
  },
  {
   "cell_type": "code",
   "execution_count": 28,
   "metadata": {},
   "outputs": [],
   "source": [
    "#dfgiannis1.keys()"
   ]
  },
  {
   "cell_type": "code",
   "execution_count": 29,
   "metadata": {},
   "outputs": [],
   "source": [
    "#dfgiannis2 = dfgiannis1[['points_pG', 'rebounds_pG']]"
   ]
  },
  {
   "cell_type": "code",
   "execution_count": 30,
   "metadata": {},
   "outputs": [],
   "source": [
    "# Now we need the data from nba.com\n",
    "# We also need the player id's here. Getting them from the allplayers list\n"
   ]
  },
  {
   "cell_type": "code",
   "execution_count": 31,
   "metadata": {},
   "outputs": [],
   "source": [
    "url = 'https://stats.nba.com/stats/commonallplayers?IsOnlyCurrentSeason=0&LeagueID=00&Season=2018-19'\n",
    "\n",
    "headers = {'user-agent': 'Mozilla/5.0 (Windows 10; Win64; x64) Chrome/38.0.2114.2 Safari/537.36'}"
   ]
  },
  {
   "cell_type": "code",
   "execution_count": null,
   "metadata": {},
   "outputs": [],
   "source": [
    "allplayers1 =  requests.get(url, headers= headers)\n"
   ]
  },
  {
   "cell_type": "code",
   "execution_count": null,
   "metadata": {},
   "outputs": [],
   "source": [
    "allplayers2 = allplayers1.json()\n",
    "allplayers3 = allplayers2['resultSets'].copy()\n",
    "allplayers4 = allplayers3[0].copy()"
   ]
  },
  {
   "cell_type": "code",
   "execution_count": null,
   "metadata": {},
   "outputs": [],
   "source": [
    "headerlist = allplayers4['headers']\n",
    "dfplayerlist = pd.DataFrame.from_dict(allplayers4['rowSet'])"
   ]
  },
  {
   "cell_type": "code",
   "execution_count": null,
   "metadata": {},
   "outputs": [],
   "source": [
    "#getting the id's by searching up the names with loc function\n",
    "\n",
    "dfplayerlist.loc[dfplayerlist['DISPLAY_FIRST_LAST'] == 'Giannis Antetokounmpo']   #for example"
   ]
  },
  {
   "cell_type": "code",
   "execution_count": null,
   "metadata": {},
   "outputs": [],
   "source": [
    "#player id's\n",
    "#Giannis id 203507\n",
    "#Harden id 201935\n",
    "#Westbrook id 201566\n"
   ]
  },
  {
   "cell_type": "code",
   "execution_count": null,
   "metadata": {},
   "outputs": [],
   "source": [
    "#Start getting the data for Westbrook from nba.com"
   ]
  },
  {
   "cell_type": "code",
   "execution_count": null,
   "metadata": {},
   "outputs": [],
   "source": [
    "url = 'https://stats.nba.com/stats/playerprofilev2?LeagueID=&PerMode=Totals&PlayerID=201566'\n",
    "\n",
    "headers = {'user-agent': 'Mozilla/5.0 (Windows 10; Win64; x64) Chrome/38.0.2114.2 Safari/537.36'}"
   ]
  },
  {
   "cell_type": "code",
   "execution_count": null,
   "metadata": {},
   "outputs": [],
   "source": [
    "russnba1 = requests.get(url, headers= headers)\n",
    "russnba2 = russnba1.json()"
   ]
  },
  {
   "cell_type": "code",
   "execution_count": null,
   "metadata": {},
   "outputs": [],
   "source": [
    "russnba3 = russnba2['resultSets'].copy()\n",
    "russnba4 = russnba3[0].copy()\n",
    "playerheaderlist = russnba4['headers']"
   ]
  },
  {
   "cell_type": "code",
   "execution_count": null,
   "metadata": {},
   "outputs": [],
   "source": [
    "dfrussnba = pd.DataFrame.from_dict(russnba4['rowSet'])\n",
    "dfrussnba.columns = playerheaderlist"
   ]
  },
  {
   "cell_type": "code",
   "execution_count": null,
   "metadata": {},
   "outputs": [],
   "source": [
    "dfrussnba2 = dfrussnba[::-1].copy()\n",
    "dfrussnba2.reset_index(drop=True, inplace=True)"
   ]
  },
  {
   "cell_type": "code",
   "execution_count": null,
   "metadata": {},
   "outputs": [],
   "source": [
    "#merging the two tables. using the sportradar table as left table."
   ]
  },
  {
   "cell_type": "code",
   "execution_count": null,
   "metadata": {},
   "outputs": [],
   "source": [
    "dfruss_merged = dfruss1.merge(dfrussnba2, left_index=True, right_index=True)"
   ]
  },
  {
   "cell_type": "code",
   "execution_count": null,
   "metadata": {},
   "outputs": [],
   "source": [
    "#writing the data into pickle file\n",
    "dfruss_merged.to_pickle('Westbrookfinal.pkl')"
   ]
  },
  {
   "cell_type": "code",
   "execution_count": null,
   "metadata": {},
   "outputs": [],
   "source": [
    "#Getting the James Harden data from stats.nba.com"
   ]
  },
  {
   "cell_type": "code",
   "execution_count": null,
   "metadata": {},
   "outputs": [],
   "source": [
    "url = 'https://stats.nba.com/stats/playerprofilev2?LeagueID=&PerMode=Totals&PlayerID=201935'\n",
    "\n",
    "headers = {'user-agent': 'Mozilla/5.0 (Windows 10; Win64; x64) Chrome/38.0.2114.2 Safari/537.36'}"
   ]
  },
  {
   "cell_type": "code",
   "execution_count": null,
   "metadata": {},
   "outputs": [],
   "source": [
    "hardnba1 = requests.get(url, headers= headers)\n",
    "hardnba2 = hardnba1.json()"
   ]
  },
  {
   "cell_type": "code",
   "execution_count": null,
   "metadata": {},
   "outputs": [],
   "source": [
    "hardnba3 = hardnba2['resultSets'].copy()\n",
    "hardnba4 = hardnba3[0].copy()"
   ]
  },
  {
   "cell_type": "code",
   "execution_count": null,
   "metadata": {},
   "outputs": [],
   "source": [
    "dfhardnba = pd.DataFrame.from_dict(hardnba4['rowSet'])\n",
    "dfhardnba.columns = playerheaderlist"
   ]
  },
  {
   "cell_type": "code",
   "execution_count": null,
   "metadata": {},
   "outputs": [],
   "source": [
    "dfhardnba2 = dfhardnba[::-1].copy()\n",
    "dfhardnba2.reset_index(drop=True, inplace=True)"
   ]
  },
  {
   "cell_type": "code",
   "execution_count": null,
   "metadata": {},
   "outputs": [],
   "source": [
    "#merging the two tables. using the sportradar table as left table.\n",
    "dfhard_merged = dfharden1.merge(dfhardnba2, left_index=True, right_index=True)"
   ]
  },
  {
   "cell_type": "code",
   "execution_count": null,
   "metadata": {},
   "outputs": [],
   "source": [
    "#writing the data into pickle file\n",
    "dfhard_merged.to_pickle('JamesHardenfinal.pkl')"
   ]
  },
  {
   "cell_type": "code",
   "execution_count": null,
   "metadata": {},
   "outputs": [],
   "source": [
    "#Giannis nba data"
   ]
  },
  {
   "cell_type": "code",
   "execution_count": null,
   "metadata": {},
   "outputs": [],
   "source": [
    "url = 'https://stats.nba.com/stats/playerprofilev2?LeagueID=&PerMode=Totals&PlayerID=203507'\n",
    "\n",
    "headers = {'user-agent': 'Mozilla/5.0 (Windows 10; Win64; x64) Chrome/38.0.2114.2 Safari/537.36'}"
   ]
  },
  {
   "cell_type": "code",
   "execution_count": null,
   "metadata": {},
   "outputs": [],
   "source": [
    "giannisnba1 = requests.get(url, headers= headers)\n",
    "giannisnba2 = giannisnba1.json()"
   ]
  },
  {
   "cell_type": "code",
   "execution_count": null,
   "metadata": {},
   "outputs": [],
   "source": [
    "giannisnba3 = giannisnba2['resultSets'].copy()\n",
    "giannisnba4 = giannisnba3[0].copy()"
   ]
  },
  {
   "cell_type": "code",
   "execution_count": null,
   "metadata": {},
   "outputs": [],
   "source": [
    "dfgiannisnba = pd.DataFrame.from_dict(giannisnba4['rowSet'])\n",
    "dfgiannisnba.columns = playerheaderlist"
   ]
  },
  {
   "cell_type": "code",
   "execution_count": null,
   "metadata": {},
   "outputs": [],
   "source": [
    "dfgiannisnba2 = dfgiannisnba[::-1].copy()\n",
    "dfgiannisnba2.reset_index(drop=True, inplace=True)"
   ]
  },
  {
   "cell_type": "code",
   "execution_count": null,
   "metadata": {},
   "outputs": [],
   "source": [
    "#merging the two tables. using the sportradar table as left table.\n",
    "dfgiannis_merged = dfgiannis1.merge(dfgiannisnba2, left_index=True, right_index=True)"
   ]
  },
  {
   "cell_type": "code",
   "execution_count": null,
   "metadata": {},
   "outputs": [],
   "source": [
    "#writing the data into pickle file\n",
    "dfgiannis_merged.to_pickle('GiannisAntofinal.pkl')"
   ]
  },
  {
   "cell_type": "code",
   "execution_count": null,
   "metadata": {},
   "outputs": [],
   "source": [
    "#using data for some plots, using subsets to get a cleaner view\n",
    "#westbrook first"
   ]
  },
  {
   "cell_type": "code",
   "execution_count": null,
   "metadata": {},
   "outputs": [],
   "source": [
    "dfruss_sub = dfruss_merged[['SEASON_ID', 'points_pG', 'assists_pG','rebounds_pG','turnovers_pG','free_throws_att_pG' ]]\n",
    "dfruss_sub"
   ]
  },
  {
   "cell_type": "code",
   "execution_count": null,
   "metadata": {},
   "outputs": [],
   "source": [
    "dfruss_sub[::-1].plot(x='SEASON_ID', y =['points_pG', 'assists_pG','rebounds_pG', 'turnovers_pG','free_throws_att_pG'], kind='bar');"
   ]
  },
  {
   "cell_type": "code",
   "execution_count": null,
   "metadata": {},
   "outputs": [],
   "source": [
    "dfruss_sub2 = dfruss_merged[['SEASON_ID', 'FG_PCT', 'FG3_PCT','FT_PCT' ]]\n",
    "dfruss_sub2"
   ]
  },
  {
   "cell_type": "code",
   "execution_count": null,
   "metadata": {},
   "outputs": [],
   "source": [
    "dfruss_sub2[::-1].plot(x='SEASON_ID', y =[ 'FG_PCT', 'FG3_PCT','FT_PCT']);"
   ]
  },
  {
   "cell_type": "code",
   "execution_count": null,
   "metadata": {},
   "outputs": [],
   "source": [
    "#harden plots"
   ]
  },
  {
   "cell_type": "code",
   "execution_count": null,
   "metadata": {},
   "outputs": [],
   "source": [
    "dfharden_sub = dfhard_merged[['SEASON_ID', 'points_pG', 'assists_pG','rebounds_pG','turnovers_pG','free_throws_att_pG' ]]\n",
    "dfhard_sub"
   ]
  },
  {
   "cell_type": "code",
   "execution_count": null,
   "metadata": {},
   "outputs": [],
   "source": [
    "dfharden_sub[::-1].plot(x='SEASON_ID', y =['points_pG', 'assists_pG','rebounds_pG', 'turnovers_pG','free_throws_att_pG'], kind='bar');"
   ]
  },
  {
   "cell_type": "code",
   "execution_count": null,
   "metadata": {},
   "outputs": [],
   "source": [
    "dfharden_sub2 = dfhard_merged[['SEASON_ID', 'FG_PCT', 'FG3_PCT','FT_PCT' ]]\n",
    "dfharden_sub2"
   ]
  },
  {
   "cell_type": "code",
   "execution_count": null,
   "metadata": {},
   "outputs": [],
   "source": [
    "dfharden_sub2[::-1].plot(x='SEASON_ID', y =[ 'FG_PCT', 'FG3_PCT','FT_PCT']);"
   ]
  },
  {
   "cell_type": "code",
   "execution_count": null,
   "metadata": {},
   "outputs": [],
   "source": [
    "#plotting for giannis"
   ]
  },
  {
   "cell_type": "code",
   "execution_count": null,
   "metadata": {},
   "outputs": [],
   "source": [
    "dfgiannis_sub = dfgiannis_merged[['SEASON_ID', 'points_pG', 'assists_pG','rebounds_pG','turnovers_pG','free_throws_att_pG' ]]\n",
    "dfgiannis_sub"
   ]
  },
  {
   "cell_type": "code",
   "execution_count": null,
   "metadata": {},
   "outputs": [],
   "source": [
    "dfgiannis_sub[::-1].plot(x='SEASON_ID', y =['points_pG', 'assists_pG','rebounds_pG', 'turnovers_pG','free_throws_att_pG'], kind='bar');"
   ]
  },
  {
   "cell_type": "code",
   "execution_count": null,
   "metadata": {},
   "outputs": [],
   "source": [
    "dfgiannis_sub2 = dfgiannis_merged[['SEASON_ID', 'FG_PCT', 'FG3_PCT','FT_PCT' ]]\n",
    "dfgiannis_sub2"
   ]
  },
  {
   "cell_type": "code",
   "execution_count": null,
   "metadata": {},
   "outputs": [],
   "source": [
    "dfgiannis_sub2[::-1].plot(x='SEASON_ID', y =[ 'FG_PCT', 'FG3_PCT','FT_PCT']);"
   ]
  },
  {
   "cell_type": "code",
   "execution_count": null,
   "metadata": {},
   "outputs": [],
   "source": []
  },
  {
   "cell_type": "code",
   "execution_count": null,
   "metadata": {},
   "outputs": [],
   "source": []
  },
  {
   "cell_type": "code",
   "execution_count": null,
   "metadata": {},
   "outputs": [],
   "source": []
  }
 ],
 "metadata": {
  "kernelspec": {
   "display_name": "Python 3",
   "language": "python",
   "name": "python3"
  },
  "language_info": {
   "codemirror_mode": {
    "name": "ipython",
    "version": 3
   },
   "file_extension": ".py",
   "mimetype": "text/x-python",
   "name": "python",
   "nbconvert_exporter": "python",
   "pygments_lexer": "ipython3",
   "version": "3.7.3"
  }
 },
 "nbformat": 4,
 "nbformat_minor": 2
}

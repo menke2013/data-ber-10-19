{
 "cells": [
  {
   "cell_type": "code",
   "execution_count": 7,
   "metadata": {},
   "outputs": [],
   "source": [
    "import requests\n",
    "import pandas as pd\n",
    "import numpy as np\n",
    "import json\n",
    "import matplotlib"
   ]
  },
  {
   "cell_type": "code",
   "execution_count": 8,
   "metadata": {},
   "outputs": [],
   "source": [
    "# starting with getting the data von sportradar\n",
    "\n",
    "url = 'https://api.sportradar.us/nba/trial/v7/en/league/hierarchy.json?api_key=9cn8jgzchymqy9b2qnw28vhh'\n",
    "spora1 = requests.get(url)"
   ]
  },
  {
   "cell_type": "code",
   "execution_count": 9,
   "metadata": {},
   "outputs": [],
   "source": [
    "leag = spora1.json()"
   ]
  },
  {
   "cell_type": "code",
   "execution_count": 10,
   "metadata": {},
   "outputs": [],
   "source": [
    "# in leag we find the id's for Houston and Milwaukee\n",
    "#houston = 583ecb3a-fb46-11e1-82cb-f4ce4684ea4c\n",
    "#milwaukee = 583ecefd-fb46-11e1-82cb-f4ce4684ea4c"
   ]
  },
  {
   "cell_type": "code",
   "execution_count": 11,
   "metadata": {},
   "outputs": [],
   "source": [
    "#Getting the player id's from the team roster\n",
    "#Houston first\n",
    "\n",
    "url = 'https://api.sportradar.us/nba/trial/v7/en/teams/583ecb3a-fb46-11e1-82cb-f4ce4684ea4c/profile.json?api_key=9cn8jgzchymqy9b2qnw28vhh'\n",
    "houston= requests.get(url)"
   ]
  },
  {
   "cell_type": "code",
   "execution_count": 12,
   "metadata": {},
   "outputs": [],
   "source": [
    "houston2 = houston.json()"
   ]
  },
  {
   "cell_type": "code",
   "execution_count": 13,
   "metadata": {},
   "outputs": [],
   "source": [
    "# Westbrook ID 74a45eed-f2b0-4886-ae71-d04cf7d59528\n",
    "# James ID a52b2c84-9c3d-4d6e-8a3b-10e75d11c2bc"
   ]
  },
  {
   "cell_type": "code",
   "execution_count": 14,
   "metadata": {},
   "outputs": [],
   "source": [
    "#now Milwaukee\n",
    "\n",
    "url = 'https://api.sportradar.us/nba/trial/v7/en/teams/583ecefd-fb46-11e1-82cb-f4ce4684ea4c/profile.json?api_key=9cn8jgzchymqy9b2qnw28vhh'\n",
    "milwaukee= requests.get(url)"
   ]
  },
  {
   "cell_type": "code",
   "execution_count": 15,
   "metadata": {},
   "outputs": [],
   "source": [
    "milwaukee2 = milwaukee.json()"
   ]
  },
  {
   "cell_type": "code",
   "execution_count": 16,
   "metadata": {},
   "outputs": [],
   "source": [
    "# Giannis ID  6c60282d-165a-4cba-8e5a-4f2d9d4c5905"
   ]
  },
  {
   "cell_type": "code",
   "execution_count": 17,
   "metadata": {},
   "outputs": [],
   "source": [
    "# Russell stats from sportradar\n",
    "\n",
    "url = 'https://api.sportradar.us/nba/trial/v7/en/players/74a45eed-f2b0-4886-ae71-d04cf7d59528/profile.json?api_key=9cn8jgzchymqy9b2qnw28vhh'\n",
    "russ1= requests.get(url)"
   ]
  },
  {
   "cell_type": "code",
   "execution_count": 18,
   "metadata": {},
   "outputs": [],
   "source": [
    "russ2 = russ1.json()\n",
    "russ3 = russ2['seasons'].copy()\n",
    "dfruss1 =pd.DataFrame()"
   ]
  },
  {
   "cell_type": "code",
   "execution_count": 19,
   "metadata": {},
   "outputs": [],
   "source": [
    "for i in range(len(russ3)):\n",
    "    russ4 = russ3[i]['teams']\n",
    "    dfruss1 = dfruss1.append(russ4[0]['average'], ignore_index=True)"
   ]
  },
  {
   "cell_type": "code",
   "execution_count": 20,
   "metadata": {},
   "outputs": [],
   "source": [
    "rename_list = dfruss1.keys()\n",
    "dic_rename = {}\n",
    "\n",
    "for i in range(len(rename_list)):\n",
    "    var_a = rename_list[i] + '_pG'\n",
    "    dic_rename.update({rename_list[i]:var_a})"
   ]
  },
  {
   "cell_type": "code",
   "execution_count": 21,
   "metadata": {},
   "outputs": [],
   "source": [
    "dfruss1.rename(dic_rename, axis=1, inplace=True)"
   ]
  },
  {
   "cell_type": "code",
   "execution_count": 22,
   "metadata": {},
   "outputs": [],
   "source": [
    "#now get the data for James Harden"
   ]
  },
  {
   "cell_type": "code",
   "execution_count": 23,
   "metadata": {},
   "outputs": [],
   "source": [
    "url = 'https://api.sportradar.us/nba/trial/v7/en/players/a52b2c84-9c3d-4d6e-8a3b-10e75d11c2bc/profile.json?api_key=9cn8jgzchymqy9b2qnw28vhh'\n",
    "harden1= requests.get(url)"
   ]
  },
  {
   "cell_type": "code",
   "execution_count": 24,
   "metadata": {},
   "outputs": [],
   "source": [
    "harden2 = harden1.json()\n",
    "harden3 = harden2['seasons'].copy()\n",
    "dfharden1 =pd.DataFrame()"
   ]
  },
  {
   "cell_type": "code",
   "execution_count": 25,
   "metadata": {},
   "outputs": [],
   "source": [
    "for i in range(len(harden3)):\n",
    "    harden4 = harden3[i]['teams']\n",
    "    dfharden1 = dfharden1.append(harden4[0]['average'], ignore_index=True)"
   ]
  },
  {
   "cell_type": "code",
   "execution_count": 26,
   "metadata": {},
   "outputs": [],
   "source": [
    "dfharden1.rename(dic_rename, axis=1, inplace=True)"
   ]
  },
  {
   "cell_type": "code",
   "execution_count": 27,
   "metadata": {},
   "outputs": [],
   "source": [
    "# get the Giannis sportradar data"
   ]
  },
  {
   "cell_type": "code",
   "execution_count": 28,
   "metadata": {},
   "outputs": [],
   "source": [
    "url = 'https://api.sportradar.us/nba/trial/v7/en/players/6c60282d-165a-4cba-8e5a-4f2d9d4c5905/profile.json?api_key=9cn8jgzchymqy9b2qnw28vhh'\n",
    "giannis1= requests.get(url)"
   ]
  },
  {
   "cell_type": "code",
   "execution_count": 29,
   "metadata": {},
   "outputs": [],
   "source": [
    "giannis2 = giannis1.json()\n",
    "giannis3 = giannis2['seasons'].copy()\n",
    "dfgiannis1 =pd.DataFrame()"
   ]
  },
  {
   "cell_type": "code",
   "execution_count": 30,
   "metadata": {},
   "outputs": [],
   "source": [
    "for i in range(len(giannis3)):\n",
    "    giannis4 = giannis3[i]['teams']\n",
    "    dfgiannis1 = dfgiannis1.append(giannis4[0]['average'], ignore_index=True)"
   ]
  },
  {
   "cell_type": "code",
   "execution_count": 31,
   "metadata": {},
   "outputs": [],
   "source": [
    "dfgiannis1.rename(dic_rename, axis=1, inplace=True)"
   ]
  },
  {
   "cell_type": "code",
   "execution_count": 32,
   "metadata": {},
   "outputs": [
    {
     "data": {
      "text/html": [
       "<div>\n",
       "<style scoped>\n",
       "    .dataframe tbody tr th:only-of-type {\n",
       "        vertical-align: middle;\n",
       "    }\n",
       "\n",
       "    .dataframe tbody tr th {\n",
       "        vertical-align: top;\n",
       "    }\n",
       "\n",
       "    .dataframe thead th {\n",
       "        text-align: right;\n",
       "    }\n",
       "</style>\n",
       "<table border=\"1\" class=\"dataframe\">\n",
       "  <thead>\n",
       "    <tr style=\"text-align: right;\">\n",
       "      <th></th>\n",
       "      <th>assists_pG</th>\n",
       "      <th>blocked_att_pG</th>\n",
       "      <th>blocks_pG</th>\n",
       "      <th>def_rebounds_pG</th>\n",
       "      <th>efficiency_pG</th>\n",
       "      <th>fast_break_att_pG</th>\n",
       "      <th>fast_break_made_pG</th>\n",
       "      <th>fast_break_pts_pG</th>\n",
       "      <th>field_goals_att_pG</th>\n",
       "      <th>field_goals_made_pG</th>\n",
       "      <th>...</th>\n",
       "      <th>second_chance_att_pG</th>\n",
       "      <th>second_chance_made_pG</th>\n",
       "      <th>second_chance_pts_pG</th>\n",
       "      <th>steals_pG</th>\n",
       "      <th>three_points_att_pG</th>\n",
       "      <th>three_points_made_pG</th>\n",
       "      <th>true_shooting_att_pG</th>\n",
       "      <th>turnovers_pG</th>\n",
       "      <th>two_points_att_pG</th>\n",
       "      <th>two_points_made_pG</th>\n",
       "    </tr>\n",
       "  </thead>\n",
       "  <tbody>\n",
       "    <tr>\n",
       "      <th>0</th>\n",
       "      <td>5.5</td>\n",
       "      <td>1.14</td>\n",
       "      <td>1.36</td>\n",
       "      <td>10.59</td>\n",
       "      <td>35.27</td>\n",
       "      <td>4.00</td>\n",
       "      <td>2.64</td>\n",
       "      <td>6.50</td>\n",
       "      <td>20.27</td>\n",
       "      <td>11.45</td>\n",
       "      <td>...</td>\n",
       "      <td>2.36</td>\n",
       "      <td>1.59</td>\n",
       "      <td>4.32</td>\n",
       "      <td>1.36</td>\n",
       "      <td>5.00</td>\n",
       "      <td>1.59</td>\n",
       "      <td>25.11</td>\n",
       "      <td>3.86</td>\n",
       "      <td>15.27</td>\n",
       "      <td>9.86</td>\n",
       "    </tr>\n",
       "    <tr>\n",
       "      <th>1</th>\n",
       "      <td>5.9</td>\n",
       "      <td>1.39</td>\n",
       "      <td>1.53</td>\n",
       "      <td>10.26</td>\n",
       "      <td>35.25</td>\n",
       "      <td>2.31</td>\n",
       "      <td>1.69</td>\n",
       "      <td>4.68</td>\n",
       "      <td>17.32</td>\n",
       "      <td>10.01</td>\n",
       "      <td>...</td>\n",
       "      <td>1.83</td>\n",
       "      <td>1.15</td>\n",
       "      <td>2.93</td>\n",
       "      <td>1.28</td>\n",
       "      <td>2.82</td>\n",
       "      <td>0.72</td>\n",
       "      <td>21.51</td>\n",
       "      <td>3.72</td>\n",
       "      <td>14.50</td>\n",
       "      <td>9.29</td>\n",
       "    </tr>\n",
       "    <tr>\n",
       "      <th>2</th>\n",
       "      <td>4.8</td>\n",
       "      <td>1.13</td>\n",
       "      <td>1.41</td>\n",
       "      <td>7.96</td>\n",
       "      <td>30.75</td>\n",
       "      <td>2.51</td>\n",
       "      <td>1.77</td>\n",
       "      <td>4.72</td>\n",
       "      <td>18.69</td>\n",
       "      <td>9.89</td>\n",
       "      <td>...</td>\n",
       "      <td>2.04</td>\n",
       "      <td>1.23</td>\n",
       "      <td>3.04</td>\n",
       "      <td>1.45</td>\n",
       "      <td>1.87</td>\n",
       "      <td>0.57</td>\n",
       "      <td>22.45</td>\n",
       "      <td>2.97</td>\n",
       "      <td>16.83</td>\n",
       "      <td>9.32</td>\n",
       "    </tr>\n",
       "    <tr>\n",
       "      <th>3</th>\n",
       "      <td>5.4</td>\n",
       "      <td>0.88</td>\n",
       "      <td>1.89</td>\n",
       "      <td>6.98</td>\n",
       "      <td>28.38</td>\n",
       "      <td>0.00</td>\n",
       "      <td>0.00</td>\n",
       "      <td>0.00</td>\n",
       "      <td>15.74</td>\n",
       "      <td>8.20</td>\n",
       "      <td>...</td>\n",
       "      <td>0.00</td>\n",
       "      <td>0.00</td>\n",
       "      <td>0.13</td>\n",
       "      <td>1.64</td>\n",
       "      <td>2.25</td>\n",
       "      <td>0.61</td>\n",
       "      <td>19.10</td>\n",
       "      <td>2.93</td>\n",
       "      <td>13.49</td>\n",
       "      <td>7.59</td>\n",
       "    </tr>\n",
       "    <tr>\n",
       "      <th>4</th>\n",
       "      <td>4.3</td>\n",
       "      <td>0.78</td>\n",
       "      <td>1.41</td>\n",
       "      <td>6.24</td>\n",
       "      <td>21.16</td>\n",
       "      <td>0.00</td>\n",
       "      <td>0.00</td>\n",
       "      <td>0.00</td>\n",
       "      <td>12.66</td>\n",
       "      <td>6.41</td>\n",
       "      <td>...</td>\n",
       "      <td>0.00</td>\n",
       "      <td>0.00</td>\n",
       "      <td>0.04</td>\n",
       "      <td>1.18</td>\n",
       "      <td>1.36</td>\n",
       "      <td>0.35</td>\n",
       "      <td>14.91</td>\n",
       "      <td>2.60</td>\n",
       "      <td>11.30</td>\n",
       "      <td>6.06</td>\n",
       "    </tr>\n",
       "    <tr>\n",
       "      <th>5</th>\n",
       "      <td>2.6</td>\n",
       "      <td>0.80</td>\n",
       "      <td>1.05</td>\n",
       "      <td>5.46</td>\n",
       "      <td>15.77</td>\n",
       "      <td>0.00</td>\n",
       "      <td>0.00</td>\n",
       "      <td>0.00</td>\n",
       "      <td>9.63</td>\n",
       "      <td>4.73</td>\n",
       "      <td>...</td>\n",
       "      <td>0.00</td>\n",
       "      <td>0.00</td>\n",
       "      <td>0.05</td>\n",
       "      <td>0.90</td>\n",
       "      <td>0.54</td>\n",
       "      <td>0.09</td>\n",
       "      <td>11.51</td>\n",
       "      <td>2.14</td>\n",
       "      <td>9.09</td>\n",
       "      <td>4.64</td>\n",
       "    </tr>\n",
       "    <tr>\n",
       "      <th>6</th>\n",
       "      <td>1.9</td>\n",
       "      <td>0.38</td>\n",
       "      <td>0.79</td>\n",
       "      <td>3.39</td>\n",
       "      <td>9.14</td>\n",
       "      <td>0.00</td>\n",
       "      <td>0.00</td>\n",
       "      <td>0.00</td>\n",
       "      <td>5.43</td>\n",
       "      <td>2.25</td>\n",
       "      <td>...</td>\n",
       "      <td>0.00</td>\n",
       "      <td>0.00</td>\n",
       "      <td>0.03</td>\n",
       "      <td>0.78</td>\n",
       "      <td>1.53</td>\n",
       "      <td>0.53</td>\n",
       "      <td>6.58</td>\n",
       "      <td>1.58</td>\n",
       "      <td>3.90</td>\n",
       "      <td>1.71</td>\n",
       "    </tr>\n",
       "  </tbody>\n",
       "</table>\n",
       "<p>7 rows × 34 columns</p>\n",
       "</div>"
      ],
      "text/plain": [
       "   assists_pG  blocked_att_pG  blocks_pG  def_rebounds_pG  efficiency_pG  \\\n",
       "0         5.5            1.14       1.36            10.59          35.27   \n",
       "1         5.9            1.39       1.53            10.26          35.25   \n",
       "2         4.8            1.13       1.41             7.96          30.75   \n",
       "3         5.4            0.88       1.89             6.98          28.38   \n",
       "4         4.3            0.78       1.41             6.24          21.16   \n",
       "5         2.6            0.80       1.05             5.46          15.77   \n",
       "6         1.9            0.38       0.79             3.39           9.14   \n",
       "\n",
       "   fast_break_att_pG  fast_break_made_pG  fast_break_pts_pG  \\\n",
       "0               4.00                2.64               6.50   \n",
       "1               2.31                1.69               4.68   \n",
       "2               2.51                1.77               4.72   \n",
       "3               0.00                0.00               0.00   \n",
       "4               0.00                0.00               0.00   \n",
       "5               0.00                0.00               0.00   \n",
       "6               0.00                0.00               0.00   \n",
       "\n",
       "   field_goals_att_pG  field_goals_made_pG  ...  second_chance_att_pG  \\\n",
       "0               20.27                11.45  ...                  2.36   \n",
       "1               17.32                10.01  ...                  1.83   \n",
       "2               18.69                 9.89  ...                  2.04   \n",
       "3               15.74                 8.20  ...                  0.00   \n",
       "4               12.66                 6.41  ...                  0.00   \n",
       "5                9.63                 4.73  ...                  0.00   \n",
       "6                5.43                 2.25  ...                  0.00   \n",
       "\n",
       "   second_chance_made_pG  second_chance_pts_pG  steals_pG  \\\n",
       "0                   1.59                  4.32       1.36   \n",
       "1                   1.15                  2.93       1.28   \n",
       "2                   1.23                  3.04       1.45   \n",
       "3                   0.00                  0.13       1.64   \n",
       "4                   0.00                  0.04       1.18   \n",
       "5                   0.00                  0.05       0.90   \n",
       "6                   0.00                  0.03       0.78   \n",
       "\n",
       "   three_points_att_pG  three_points_made_pG  true_shooting_att_pG  \\\n",
       "0                 5.00                  1.59                 25.11   \n",
       "1                 2.82                  0.72                 21.51   \n",
       "2                 1.87                  0.57                 22.45   \n",
       "3                 2.25                  0.61                 19.10   \n",
       "4                 1.36                  0.35                 14.91   \n",
       "5                 0.54                  0.09                 11.51   \n",
       "6                 1.53                  0.53                  6.58   \n",
       "\n",
       "   turnovers_pG  two_points_att_pG  two_points_made_pG  \n",
       "0          3.86              15.27                9.86  \n",
       "1          3.72              14.50                9.29  \n",
       "2          2.97              16.83                9.32  \n",
       "3          2.93              13.49                7.59  \n",
       "4          2.60              11.30                6.06  \n",
       "5          2.14               9.09                4.64  \n",
       "6          1.58               3.90                1.71  \n",
       "\n",
       "[7 rows x 34 columns]"
      ]
     },
     "execution_count": 32,
     "metadata": {},
     "output_type": "execute_result"
    }
   ],
   "source": [
    "dfgiannis1"
   ]
  },
  {
   "cell_type": "code",
   "execution_count": 33,
   "metadata": {},
   "outputs": [],
   "source": [
    "#dfgiannis1.keys()"
   ]
  },
  {
   "cell_type": "code",
   "execution_count": 34,
   "metadata": {},
   "outputs": [],
   "source": [
    "#dfgiannis2 = dfgiannis1[['points_pG', 'rebounds_pG']]"
   ]
  },
  {
   "cell_type": "code",
   "execution_count": 35,
   "metadata": {},
   "outputs": [],
   "source": [
    "# Now we need the data from nba.com\n",
    "# We also need the player id's here. Getting them from the allplayers list\n"
   ]
  },
  {
   "cell_type": "code",
   "execution_count": 36,
   "metadata": {},
   "outputs": [],
   "source": [
    "url = 'https://stats.nba.com/stats/commonallplayers?IsOnlyCurrentSeason=0&LeagueID=00&Season=2018-19'\n",
    "\n",
    "headers = {'user-agent': ('Mozilla/5.0 (Windows NT 10.0; Win64; x64) AppleWebKit/537.36 (KHTML, like Gecko) Chrome/78.0.3904.97 Safari/537.36'),\n",
    "          'referer': 'http://stats.nba.com/players/'}"
   ]
  },
  {
   "cell_type": "code",
   "execution_count": 37,
   "metadata": {},
   "outputs": [],
   "source": [
    "allplayers1 =  requests.get(url, headers= headers)\n"
   ]
  },
  {
   "cell_type": "code",
   "execution_count": 38,
   "metadata": {},
   "outputs": [
    {
     "data": {
      "text/plain": [
       "requests.models.Response"
      ]
     },
     "execution_count": 38,
     "metadata": {},
     "output_type": "execute_result"
    }
   ],
   "source": [
    "type(allplayers1)"
   ]
  },
  {
   "cell_type": "code",
   "execution_count": 39,
   "metadata": {},
   "outputs": [],
   "source": [
    "allplayers2 = allplayers1.json()\n",
    "allplayers3 = allplayers2['resultSets'].copy()\n",
    "allplayers4 = allplayers3[0].copy()"
   ]
  },
  {
   "cell_type": "code",
   "execution_count": 40,
   "metadata": {},
   "outputs": [],
   "source": [
    "allplayers2 = allplayers1.json()"
   ]
  },
  {
   "cell_type": "code",
   "execution_count": 41,
   "metadata": {},
   "outputs": [
    {
     "data": {
      "text/plain": [
       "dict"
      ]
     },
     "execution_count": 41,
     "metadata": {},
     "output_type": "execute_result"
    }
   ],
   "source": [
    "type(allplayers2)"
   ]
  },
  {
   "cell_type": "code",
   "execution_count": 42,
   "metadata": {},
   "outputs": [
    {
     "data": {
      "text/plain": [
       "['PERSON_ID',\n",
       " 'DISPLAY_LAST_COMMA_FIRST',\n",
       " 'DISPLAY_FIRST_LAST',\n",
       " 'ROSTERSTATUS',\n",
       " 'FROM_YEAR',\n",
       " 'TO_YEAR',\n",
       " 'PLAYERCODE',\n",
       " 'TEAM_ID',\n",
       " 'TEAM_CITY',\n",
       " 'TEAM_NAME',\n",
       " 'TEAM_ABBREVIATION',\n",
       " 'TEAM_CODE',\n",
       " 'GAMES_PLAYED_FLAG',\n",
       " 'OTHERLEAGUE_EXPERIENCE_CH']"
      ]
     },
     "execution_count": 42,
     "metadata": {},
     "output_type": "execute_result"
    }
   ],
   "source": [
    "allplayers4['headers']"
   ]
  },
  {
   "cell_type": "code",
   "execution_count": 43,
   "metadata": {},
   "outputs": [],
   "source": [
    "headerlist = allplayers4['headers']\n",
    "dfplayerlist = pd.DataFrame.from_dict(allplayers4['rowSet'])"
   ]
  },
  {
   "cell_type": "code",
   "execution_count": 44,
   "metadata": {},
   "outputs": [],
   "source": [
    "dfplayerlist.columns = headerlist"
   ]
  },
  {
   "cell_type": "code",
   "execution_count": 45,
   "metadata": {},
   "outputs": [
    {
     "data": {
      "text/html": [
       "<div>\n",
       "<style scoped>\n",
       "    .dataframe tbody tr th:only-of-type {\n",
       "        vertical-align: middle;\n",
       "    }\n",
       "\n",
       "    .dataframe tbody tr th {\n",
       "        vertical-align: top;\n",
       "    }\n",
       "\n",
       "    .dataframe thead th {\n",
       "        text-align: right;\n",
       "    }\n",
       "</style>\n",
       "<table border=\"1\" class=\"dataframe\">\n",
       "  <thead>\n",
       "    <tr style=\"text-align: right;\">\n",
       "      <th></th>\n",
       "      <th>PERSON_ID</th>\n",
       "      <th>DISPLAY_LAST_COMMA_FIRST</th>\n",
       "      <th>DISPLAY_FIRST_LAST</th>\n",
       "      <th>ROSTERSTATUS</th>\n",
       "      <th>FROM_YEAR</th>\n",
       "      <th>TO_YEAR</th>\n",
       "      <th>PLAYERCODE</th>\n",
       "      <th>TEAM_ID</th>\n",
       "      <th>TEAM_CITY</th>\n",
       "      <th>TEAM_NAME</th>\n",
       "      <th>TEAM_ABBREVIATION</th>\n",
       "      <th>TEAM_CODE</th>\n",
       "      <th>GAMES_PLAYED_FLAG</th>\n",
       "      <th>OTHERLEAGUE_EXPERIENCE_CH</th>\n",
       "    </tr>\n",
       "  </thead>\n",
       "  <tbody>\n",
       "    <tr>\n",
       "      <th>0</th>\n",
       "      <td>76001</td>\n",
       "      <td>Abdelnaby, Alaa</td>\n",
       "      <td>Alaa Abdelnaby</td>\n",
       "      <td>0</td>\n",
       "      <td>1990</td>\n",
       "      <td>1994</td>\n",
       "      <td>HISTADD_alaa_abdelnaby</td>\n",
       "      <td>0</td>\n",
       "      <td></td>\n",
       "      <td></td>\n",
       "      <td></td>\n",
       "      <td></td>\n",
       "      <td>Y</td>\n",
       "      <td>00</td>\n",
       "    </tr>\n",
       "    <tr>\n",
       "      <th>1</th>\n",
       "      <td>76002</td>\n",
       "      <td>Abdul-Aziz, Zaid</td>\n",
       "      <td>Zaid Abdul-Aziz</td>\n",
       "      <td>0</td>\n",
       "      <td>1968</td>\n",
       "      <td>1977</td>\n",
       "      <td>HISTADD_zaid_abdul-aziz</td>\n",
       "      <td>0</td>\n",
       "      <td></td>\n",
       "      <td></td>\n",
       "      <td></td>\n",
       "      <td></td>\n",
       "      <td>Y</td>\n",
       "      <td>00</td>\n",
       "    </tr>\n",
       "    <tr>\n",
       "      <th>2</th>\n",
       "      <td>76003</td>\n",
       "      <td>Abdul-Jabbar, Kareem</td>\n",
       "      <td>Kareem Abdul-Jabbar</td>\n",
       "      <td>0</td>\n",
       "      <td>1969</td>\n",
       "      <td>1988</td>\n",
       "      <td>HISTADD_kareem_abdul-jabbar</td>\n",
       "      <td>0</td>\n",
       "      <td></td>\n",
       "      <td></td>\n",
       "      <td></td>\n",
       "      <td></td>\n",
       "      <td>Y</td>\n",
       "      <td>00</td>\n",
       "    </tr>\n",
       "    <tr>\n",
       "      <th>3</th>\n",
       "      <td>51</td>\n",
       "      <td>Abdul-Rauf, Mahmoud</td>\n",
       "      <td>Mahmoud Abdul-Rauf</td>\n",
       "      <td>0</td>\n",
       "      <td>1990</td>\n",
       "      <td>2000</td>\n",
       "      <td>mahmoud_abdul-rauf</td>\n",
       "      <td>0</td>\n",
       "      <td></td>\n",
       "      <td></td>\n",
       "      <td></td>\n",
       "      <td></td>\n",
       "      <td>Y</td>\n",
       "      <td>00</td>\n",
       "    </tr>\n",
       "    <tr>\n",
       "      <th>4</th>\n",
       "      <td>1505</td>\n",
       "      <td>Abdul-Wahad, Tariq</td>\n",
       "      <td>Tariq Abdul-Wahad</td>\n",
       "      <td>0</td>\n",
       "      <td>1997</td>\n",
       "      <td>2003</td>\n",
       "      <td>tariq_abdul-wahad</td>\n",
       "      <td>0</td>\n",
       "      <td></td>\n",
       "      <td></td>\n",
       "      <td></td>\n",
       "      <td></td>\n",
       "      <td>Y</td>\n",
       "      <td>00</td>\n",
       "    </tr>\n",
       "    <tr>\n",
       "      <th>5</th>\n",
       "      <td>949</td>\n",
       "      <td>Abdur-Rahim, Shareef</td>\n",
       "      <td>Shareef Abdur-Rahim</td>\n",
       "      <td>0</td>\n",
       "      <td>1996</td>\n",
       "      <td>2007</td>\n",
       "      <td>shareef_abdur-rahim</td>\n",
       "      <td>0</td>\n",
       "      <td></td>\n",
       "      <td></td>\n",
       "      <td></td>\n",
       "      <td></td>\n",
       "      <td>Y</td>\n",
       "      <td>00</td>\n",
       "    </tr>\n",
       "    <tr>\n",
       "      <th>6</th>\n",
       "      <td>76005</td>\n",
       "      <td>Abernethy, Tom</td>\n",
       "      <td>Tom Abernethy</td>\n",
       "      <td>0</td>\n",
       "      <td>1976</td>\n",
       "      <td>1980</td>\n",
       "      <td>HISTADD_tom_abernethy</td>\n",
       "      <td>0</td>\n",
       "      <td></td>\n",
       "      <td></td>\n",
       "      <td></td>\n",
       "      <td></td>\n",
       "      <td>Y</td>\n",
       "      <td>00</td>\n",
       "    </tr>\n",
       "    <tr>\n",
       "      <th>7</th>\n",
       "      <td>76006</td>\n",
       "      <td>Able, Forest</td>\n",
       "      <td>Forest Able</td>\n",
       "      <td>0</td>\n",
       "      <td>1956</td>\n",
       "      <td>1956</td>\n",
       "      <td>HISTADD_frosty_able</td>\n",
       "      <td>0</td>\n",
       "      <td></td>\n",
       "      <td></td>\n",
       "      <td></td>\n",
       "      <td></td>\n",
       "      <td>Y</td>\n",
       "      <td>00</td>\n",
       "    </tr>\n",
       "    <tr>\n",
       "      <th>8</th>\n",
       "      <td>76007</td>\n",
       "      <td>Abramovic, John</td>\n",
       "      <td>John Abramovic</td>\n",
       "      <td>0</td>\n",
       "      <td>1946</td>\n",
       "      <td>1947</td>\n",
       "      <td>HISTADD_brooms_abramovic</td>\n",
       "      <td>0</td>\n",
       "      <td></td>\n",
       "      <td></td>\n",
       "      <td></td>\n",
       "      <td></td>\n",
       "      <td>Y</td>\n",
       "      <td>00</td>\n",
       "    </tr>\n",
       "    <tr>\n",
       "      <th>9</th>\n",
       "      <td>203518</td>\n",
       "      <td>Abrines, Alex</td>\n",
       "      <td>Alex Abrines</td>\n",
       "      <td>0</td>\n",
       "      <td>2016</td>\n",
       "      <td>2018</td>\n",
       "      <td>alex_abrines</td>\n",
       "      <td>0</td>\n",
       "      <td></td>\n",
       "      <td></td>\n",
       "      <td></td>\n",
       "      <td></td>\n",
       "      <td>Y</td>\n",
       "      <td>00</td>\n",
       "    </tr>\n",
       "    <tr>\n",
       "      <th>10</th>\n",
       "      <td>101165</td>\n",
       "      <td>Acker, Alex</td>\n",
       "      <td>Alex Acker</td>\n",
       "      <td>0</td>\n",
       "      <td>2005</td>\n",
       "      <td>2008</td>\n",
       "      <td>alex_acker</td>\n",
       "      <td>0</td>\n",
       "      <td></td>\n",
       "      <td></td>\n",
       "      <td></td>\n",
       "      <td></td>\n",
       "      <td>Y</td>\n",
       "      <td>01</td>\n",
       "    </tr>\n",
       "    <tr>\n",
       "      <th>11</th>\n",
       "      <td>76008</td>\n",
       "      <td>Ackerman, Donald</td>\n",
       "      <td>Donald Ackerman</td>\n",
       "      <td>0</td>\n",
       "      <td>1953</td>\n",
       "      <td>1953</td>\n",
       "      <td>HISTADD_buddy_ackerman</td>\n",
       "      <td>0</td>\n",
       "      <td></td>\n",
       "      <td></td>\n",
       "      <td></td>\n",
       "      <td></td>\n",
       "      <td>Y</td>\n",
       "      <td>00</td>\n",
       "    </tr>\n",
       "    <tr>\n",
       "      <th>12</th>\n",
       "      <td>76009</td>\n",
       "      <td>Acres, Mark</td>\n",
       "      <td>Mark Acres</td>\n",
       "      <td>0</td>\n",
       "      <td>1987</td>\n",
       "      <td>1992</td>\n",
       "      <td>HISTADD_mark_acres</td>\n",
       "      <td>0</td>\n",
       "      <td></td>\n",
       "      <td></td>\n",
       "      <td></td>\n",
       "      <td></td>\n",
       "      <td>Y</td>\n",
       "      <td>00</td>\n",
       "    </tr>\n",
       "    <tr>\n",
       "      <th>13</th>\n",
       "      <td>76010</td>\n",
       "      <td>Acton, Charles</td>\n",
       "      <td>Charles Acton</td>\n",
       "      <td>0</td>\n",
       "      <td>1967</td>\n",
       "      <td>1967</td>\n",
       "      <td>HISTADD_bud_acton</td>\n",
       "      <td>0</td>\n",
       "      <td></td>\n",
       "      <td></td>\n",
       "      <td></td>\n",
       "      <td></td>\n",
       "      <td>Y</td>\n",
       "      <td>00</td>\n",
       "    </tr>\n",
       "    <tr>\n",
       "      <th>14</th>\n",
       "      <td>203112</td>\n",
       "      <td>Acy, Quincy</td>\n",
       "      <td>Quincy Acy</td>\n",
       "      <td>0</td>\n",
       "      <td>2012</td>\n",
       "      <td>2018</td>\n",
       "      <td>quincy_acy</td>\n",
       "      <td>0</td>\n",
       "      <td></td>\n",
       "      <td></td>\n",
       "      <td></td>\n",
       "      <td></td>\n",
       "      <td>Y</td>\n",
       "      <td>11</td>\n",
       "    </tr>\n",
       "    <tr>\n",
       "      <th>15</th>\n",
       "      <td>76011</td>\n",
       "      <td>Adams, Alvan</td>\n",
       "      <td>Alvan Adams</td>\n",
       "      <td>0</td>\n",
       "      <td>1975</td>\n",
       "      <td>1987</td>\n",
       "      <td>HISTADD_alvan_adams</td>\n",
       "      <td>0</td>\n",
       "      <td></td>\n",
       "      <td></td>\n",
       "      <td></td>\n",
       "      <td></td>\n",
       "      <td>Y</td>\n",
       "      <td>00</td>\n",
       "    </tr>\n",
       "    <tr>\n",
       "      <th>16</th>\n",
       "      <td>76012</td>\n",
       "      <td>Adams, Don</td>\n",
       "      <td>Don Adams</td>\n",
       "      <td>0</td>\n",
       "      <td>1970</td>\n",
       "      <td>1976</td>\n",
       "      <td>HISTADD_don_adams</td>\n",
       "      <td>0</td>\n",
       "      <td></td>\n",
       "      <td></td>\n",
       "      <td></td>\n",
       "      <td></td>\n",
       "      <td>Y</td>\n",
       "      <td>00</td>\n",
       "    </tr>\n",
       "    <tr>\n",
       "      <th>17</th>\n",
       "      <td>200801</td>\n",
       "      <td>Adams, Hassan</td>\n",
       "      <td>Hassan Adams</td>\n",
       "      <td>0</td>\n",
       "      <td>2006</td>\n",
       "      <td>2008</td>\n",
       "      <td>hassan_adams</td>\n",
       "      <td>0</td>\n",
       "      <td></td>\n",
       "      <td></td>\n",
       "      <td></td>\n",
       "      <td></td>\n",
       "      <td>Y</td>\n",
       "      <td>00</td>\n",
       "    </tr>\n",
       "    <tr>\n",
       "      <th>18</th>\n",
       "      <td>1629121</td>\n",
       "      <td>Adams, Jaylen</td>\n",
       "      <td>Jaylen Adams</td>\n",
       "      <td>1</td>\n",
       "      <td>2018</td>\n",
       "      <td>2018</td>\n",
       "      <td>jaylen_adams</td>\n",
       "      <td>1610612737</td>\n",
       "      <td>Atlanta</td>\n",
       "      <td>Hawks</td>\n",
       "      <td>ATL</td>\n",
       "      <td>hawks</td>\n",
       "      <td>Y</td>\n",
       "      <td>11</td>\n",
       "    </tr>\n",
       "    <tr>\n",
       "      <th>19</th>\n",
       "      <td>203919</td>\n",
       "      <td>Adams, Jordan</td>\n",
       "      <td>Jordan Adams</td>\n",
       "      <td>0</td>\n",
       "      <td>2014</td>\n",
       "      <td>2015</td>\n",
       "      <td>jordan_adams</td>\n",
       "      <td>0</td>\n",
       "      <td></td>\n",
       "      <td></td>\n",
       "      <td></td>\n",
       "      <td></td>\n",
       "      <td>Y</td>\n",
       "      <td>11</td>\n",
       "    </tr>\n",
       "  </tbody>\n",
       "</table>\n",
       "</div>"
      ],
      "text/plain": [
       "    PERSON_ID DISPLAY_LAST_COMMA_FIRST   DISPLAY_FIRST_LAST  ROSTERSTATUS  \\\n",
       "0       76001          Abdelnaby, Alaa       Alaa Abdelnaby             0   \n",
       "1       76002         Abdul-Aziz, Zaid      Zaid Abdul-Aziz             0   \n",
       "2       76003     Abdul-Jabbar, Kareem  Kareem Abdul-Jabbar             0   \n",
       "3          51      Abdul-Rauf, Mahmoud   Mahmoud Abdul-Rauf             0   \n",
       "4        1505       Abdul-Wahad, Tariq    Tariq Abdul-Wahad             0   \n",
       "5         949     Abdur-Rahim, Shareef  Shareef Abdur-Rahim             0   \n",
       "6       76005           Abernethy, Tom        Tom Abernethy             0   \n",
       "7       76006             Able, Forest          Forest Able             0   \n",
       "8       76007          Abramovic, John       John Abramovic             0   \n",
       "9      203518            Abrines, Alex         Alex Abrines             0   \n",
       "10     101165              Acker, Alex           Alex Acker             0   \n",
       "11      76008         Ackerman, Donald      Donald Ackerman             0   \n",
       "12      76009              Acres, Mark           Mark Acres             0   \n",
       "13      76010           Acton, Charles        Charles Acton             0   \n",
       "14     203112              Acy, Quincy           Quincy Acy             0   \n",
       "15      76011             Adams, Alvan          Alvan Adams             0   \n",
       "16      76012               Adams, Don            Don Adams             0   \n",
       "17     200801            Adams, Hassan         Hassan Adams             0   \n",
       "18    1629121            Adams, Jaylen         Jaylen Adams             1   \n",
       "19     203919            Adams, Jordan         Jordan Adams             0   \n",
       "\n",
       "   FROM_YEAR TO_YEAR                   PLAYERCODE     TEAM_ID TEAM_CITY  \\\n",
       "0       1990    1994       HISTADD_alaa_abdelnaby           0             \n",
       "1       1968    1977      HISTADD_zaid_abdul-aziz           0             \n",
       "2       1969    1988  HISTADD_kareem_abdul-jabbar           0             \n",
       "3       1990    2000           mahmoud_abdul-rauf           0             \n",
       "4       1997    2003            tariq_abdul-wahad           0             \n",
       "5       1996    2007          shareef_abdur-rahim           0             \n",
       "6       1976    1980        HISTADD_tom_abernethy           0             \n",
       "7       1956    1956          HISTADD_frosty_able           0             \n",
       "8       1946    1947     HISTADD_brooms_abramovic           0             \n",
       "9       2016    2018                 alex_abrines           0             \n",
       "10      2005    2008                   alex_acker           0             \n",
       "11      1953    1953       HISTADD_buddy_ackerman           0             \n",
       "12      1987    1992           HISTADD_mark_acres           0             \n",
       "13      1967    1967            HISTADD_bud_acton           0             \n",
       "14      2012    2018                   quincy_acy           0             \n",
       "15      1975    1987          HISTADD_alvan_adams           0             \n",
       "16      1970    1976            HISTADD_don_adams           0             \n",
       "17      2006    2008                 hassan_adams           0             \n",
       "18      2018    2018                 jaylen_adams  1610612737   Atlanta   \n",
       "19      2014    2015                 jordan_adams           0             \n",
       "\n",
       "   TEAM_NAME TEAM_ABBREVIATION TEAM_CODE GAMES_PLAYED_FLAG  \\\n",
       "0                                                        Y   \n",
       "1                                                        Y   \n",
       "2                                                        Y   \n",
       "3                                                        Y   \n",
       "4                                                        Y   \n",
       "5                                                        Y   \n",
       "6                                                        Y   \n",
       "7                                                        Y   \n",
       "8                                                        Y   \n",
       "9                                                        Y   \n",
       "10                                                       Y   \n",
       "11                                                       Y   \n",
       "12                                                       Y   \n",
       "13                                                       Y   \n",
       "14                                                       Y   \n",
       "15                                                       Y   \n",
       "16                                                       Y   \n",
       "17                                                       Y   \n",
       "18     Hawks               ATL     hawks                 Y   \n",
       "19                                                       Y   \n",
       "\n",
       "   OTHERLEAGUE_EXPERIENCE_CH  \n",
       "0                         00  \n",
       "1                         00  \n",
       "2                         00  \n",
       "3                         00  \n",
       "4                         00  \n",
       "5                         00  \n",
       "6                         00  \n",
       "7                         00  \n",
       "8                         00  \n",
       "9                         00  \n",
       "10                        01  \n",
       "11                        00  \n",
       "12                        00  \n",
       "13                        00  \n",
       "14                        11  \n",
       "15                        00  \n",
       "16                        00  \n",
       "17                        00  \n",
       "18                        11  \n",
       "19                        11  "
      ]
     },
     "execution_count": 45,
     "metadata": {},
     "output_type": "execute_result"
    }
   ],
   "source": [
    "dfplayerlist.head(20)"
   ]
  },
  {
   "cell_type": "code",
   "execution_count": 46,
   "metadata": {},
   "outputs": [
    {
     "data": {
      "text/html": [
       "<div>\n",
       "<style scoped>\n",
       "    .dataframe tbody tr th:only-of-type {\n",
       "        vertical-align: middle;\n",
       "    }\n",
       "\n",
       "    .dataframe tbody tr th {\n",
       "        vertical-align: top;\n",
       "    }\n",
       "\n",
       "    .dataframe thead th {\n",
       "        text-align: right;\n",
       "    }\n",
       "</style>\n",
       "<table border=\"1\" class=\"dataframe\">\n",
       "  <thead>\n",
       "    <tr style=\"text-align: right;\">\n",
       "      <th></th>\n",
       "      <th>PERSON_ID</th>\n",
       "      <th>DISPLAY_LAST_COMMA_FIRST</th>\n",
       "      <th>DISPLAY_FIRST_LAST</th>\n",
       "      <th>ROSTERSTATUS</th>\n",
       "      <th>FROM_YEAR</th>\n",
       "      <th>TO_YEAR</th>\n",
       "      <th>PLAYERCODE</th>\n",
       "      <th>TEAM_ID</th>\n",
       "      <th>TEAM_CITY</th>\n",
       "      <th>TEAM_NAME</th>\n",
       "      <th>TEAM_ABBREVIATION</th>\n",
       "      <th>TEAM_CODE</th>\n",
       "      <th>GAMES_PLAYED_FLAG</th>\n",
       "      <th>OTHERLEAGUE_EXPERIENCE_CH</th>\n",
       "    </tr>\n",
       "  </thead>\n",
       "  <tbody>\n",
       "    <tr>\n",
       "      <th>105</th>\n",
       "      <td>203507</td>\n",
       "      <td>Antetokounmpo, Giannis</td>\n",
       "      <td>Giannis Antetokounmpo</td>\n",
       "      <td>1</td>\n",
       "      <td>2013</td>\n",
       "      <td>2019</td>\n",
       "      <td>giannis_antetokounmpo</td>\n",
       "      <td>1610612749</td>\n",
       "      <td>Milwaukee</td>\n",
       "      <td>Bucks</td>\n",
       "      <td>MIL</td>\n",
       "      <td>bucks</td>\n",
       "      <td>Y</td>\n",
       "      <td>00</td>\n",
       "    </tr>\n",
       "  </tbody>\n",
       "</table>\n",
       "</div>"
      ],
      "text/plain": [
       "     PERSON_ID DISPLAY_LAST_COMMA_FIRST     DISPLAY_FIRST_LAST  ROSTERSTATUS  \\\n",
       "105     203507   Antetokounmpo, Giannis  Giannis Antetokounmpo             1   \n",
       "\n",
       "    FROM_YEAR TO_YEAR             PLAYERCODE     TEAM_ID  TEAM_CITY TEAM_NAME  \\\n",
       "105      2013    2019  giannis_antetokounmpo  1610612749  Milwaukee     Bucks   \n",
       "\n",
       "    TEAM_ABBREVIATION TEAM_CODE GAMES_PLAYED_FLAG OTHERLEAGUE_EXPERIENCE_CH  \n",
       "105               MIL     bucks                 Y                        00  "
      ]
     },
     "execution_count": 46,
     "metadata": {},
     "output_type": "execute_result"
    }
   ],
   "source": [
    "#getting the id's by searching up the names with loc function\n",
    "\n",
    "dfplayerlist.loc[dfplayerlist['DISPLAY_FIRST_LAST'] == 'Giannis Antetokounmpo']   #for example"
   ]
  },
  {
   "cell_type": "code",
   "execution_count": 47,
   "metadata": {},
   "outputs": [],
   "source": [
    "#player id's\n",
    "#Giannis id 203507\n",
    "#Harden id 201935\n",
    "#Westbrook id 201566\n"
   ]
  },
  {
   "cell_type": "code",
   "execution_count": null,
   "metadata": {},
   "outputs": [],
   "source": [
    "#Start getting the data for Westbrook from nba.com"
   ]
  },
  {
   "cell_type": "code",
   "execution_count": null,
   "metadata": {},
   "outputs": [],
   "source": [
    "url = 'https://stats.nba.com/stats/playerprofilev2?LeagueID=&PerMode=Totals&PlayerID=201566'\n",
    "\n",
    "headers = {'user-agent': 'Mozilla/5.0 (Windows 10; Win64; x64) Chrome/38.0.2114.2 Safari/537.36'}"
   ]
  },
  {
   "cell_type": "code",
   "execution_count": null,
   "metadata": {},
   "outputs": [],
   "source": [
    "russnba1 = requests.get(url, headers= headers)\n",
    "russnba2 = russnba1.json()"
   ]
  },
  {
   "cell_type": "code",
   "execution_count": null,
   "metadata": {},
   "outputs": [],
   "source": [
    "russnba3 = russnba2['resultSets'].copy()\n",
    "russnba4 = russnba3[0].copy()\n",
    "playerheaderlist = russnba4['headers']"
   ]
  },
  {
   "cell_type": "code",
   "execution_count": null,
   "metadata": {},
   "outputs": [],
   "source": [
    "dfrussnba = pd.DataFrame.from_dict(russnba4['rowSet'])\n",
    "dfrussnba.columns = playerheaderlist"
   ]
  },
  {
   "cell_type": "code",
   "execution_count": null,
   "metadata": {},
   "outputs": [],
   "source": [
    "dfrussnba2 = dfrussnba[::-1].copy()\n",
    "dfrussnba2.reset_index(drop=True, inplace=True)"
   ]
  },
  {
   "cell_type": "code",
   "execution_count": null,
   "metadata": {},
   "outputs": [],
   "source": [
    "#merging the two tables. using the sportradar table as left table."
   ]
  },
  {
   "cell_type": "code",
   "execution_count": null,
   "metadata": {},
   "outputs": [],
   "source": [
    "dfruss_merged = dfruss1.merge(dfrussnba2, left_index=True, right_index=True)"
   ]
  },
  {
   "cell_type": "code",
   "execution_count": null,
   "metadata": {},
   "outputs": [],
   "source": [
    "#writing the data into pickle file\n",
    "#dfruss_merged.to_pickle('Westbrookfinal.pkl')"
   ]
  },
  {
   "cell_type": "code",
   "execution_count": null,
   "metadata": {},
   "outputs": [],
   "source": [
    "#Getting the James Harden data from stats.nba.com"
   ]
  },
  {
   "cell_type": "code",
   "execution_count": null,
   "metadata": {},
   "outputs": [],
   "source": [
    "url = 'https://stats.nba.com/stats/playerprofilev2?LeagueID=&PerMode=Totals&PlayerID=201935'\n",
    "\n",
    "headers = {'user-agent': 'Mozilla/5.0 (Windows 10; Win64; x64) Chrome/38.0.2114.2 Safari/537.36'}"
   ]
  },
  {
   "cell_type": "code",
   "execution_count": null,
   "metadata": {},
   "outputs": [],
   "source": [
    "hardnba1 = requests.get(url, headers= headers)\n",
    "hardnba2 = hardnba1.json()"
   ]
  },
  {
   "cell_type": "code",
   "execution_count": null,
   "metadata": {},
   "outputs": [],
   "source": [
    "hardnba3 = hardnba2['resultSets'].copy()\n",
    "hardnba4 = hardnba3[0].copy()"
   ]
  },
  {
   "cell_type": "code",
   "execution_count": null,
   "metadata": {},
   "outputs": [],
   "source": [
    "dfhardnba = pd.DataFrame.from_dict(hardnba4['rowSet'])\n",
    "dfhardnba.columns = playerheaderlist"
   ]
  },
  {
   "cell_type": "code",
   "execution_count": null,
   "metadata": {},
   "outputs": [],
   "source": [
    "dfhardnba2 = dfhardnba[::-1].copy()\n",
    "dfhardnba2.reset_index(drop=True, inplace=True)"
   ]
  },
  {
   "cell_type": "code",
   "execution_count": null,
   "metadata": {},
   "outputs": [],
   "source": [
    "#merging the two tables. using the sportradar table as left table.\n",
    "dfhard_merged = dfharden1.merge(dfhardnba2, left_index=True, right_index=True)"
   ]
  },
  {
   "cell_type": "code",
   "execution_count": null,
   "metadata": {},
   "outputs": [],
   "source": [
    "#writing the data into pickle file\n",
    "#dfhard_merged.to_pickle('JamesHardenfinal.pkl')"
   ]
  },
  {
   "cell_type": "code",
   "execution_count": null,
   "metadata": {},
   "outputs": [],
   "source": [
    "#Giannis nba data"
   ]
  },
  {
   "cell_type": "code",
   "execution_count": null,
   "metadata": {},
   "outputs": [],
   "source": [
    "url = 'https://stats.nba.com/stats/playerprofilev2?LeagueID=&PerMode=Totals&PlayerID=203507'\n",
    "\n",
    "headers = {'user-agent': 'Mozilla/5.0 (Windows 10; Win64; x64) Chrome/38.0.2114.2 Safari/537.36'}"
   ]
  },
  {
   "cell_type": "code",
   "execution_count": null,
   "metadata": {},
   "outputs": [],
   "source": [
    "giannisnba1 = requests.get(url, headers= headers)\n",
    "giannisnba2 = giannisnba1.json()"
   ]
  },
  {
   "cell_type": "code",
   "execution_count": null,
   "metadata": {},
   "outputs": [],
   "source": [
    "giannisnba3 = giannisnba2['resultSets'].copy()\n",
    "giannisnba4 = giannisnba3[0].copy()"
   ]
  },
  {
   "cell_type": "code",
   "execution_count": null,
   "metadata": {},
   "outputs": [],
   "source": [
    "dfgiannisnba = pd.DataFrame.from_dict(giannisnba4['rowSet'])\n",
    "dfgiannisnba.columns = playerheaderlist"
   ]
  },
  {
   "cell_type": "code",
   "execution_count": null,
   "metadata": {},
   "outputs": [],
   "source": [
    "dfgiannisnba2 = dfgiannisnba[::-1].copy()\n",
    "dfgiannisnba2.reset_index(drop=True, inplace=True)"
   ]
  },
  {
   "cell_type": "code",
   "execution_count": null,
   "metadata": {},
   "outputs": [],
   "source": [
    "#merging the two tables. using the sportradar table as left table.\n",
    "dfgiannis_merged = dfgiannis1.merge(dfgiannisnba2, left_index=True, right_index=True)"
   ]
  },
  {
   "cell_type": "code",
   "execution_count": null,
   "metadata": {},
   "outputs": [],
   "source": [
    "#writing the data into pickle file\n",
    "#dfgiannis_merged.to_pickle('GiannisAntofinal.pkl')"
   ]
  },
  {
   "cell_type": "code",
   "execution_count": null,
   "metadata": {},
   "outputs": [],
   "source": [
    "#using data for some plots, using subsets to get a cleaner view\n",
    "#westbrook first"
   ]
  },
  {
   "cell_type": "code",
   "execution_count": null,
   "metadata": {},
   "outputs": [],
   "source": [
    "dfruss_sub = dfruss_merged[['SEASON_ID', 'points_pG', 'assists_pG','rebounds_pG','turnovers_pG','free_throws_att_pG' ]]\n",
    "dfruss_sub"
   ]
  },
  {
   "cell_type": "code",
   "execution_count": null,
   "metadata": {},
   "outputs": [],
   "source": [
    "dfruss_sub[::-1].plot(x='SEASON_ID', y =['points_pG', 'assists_pG','rebounds_pG', 'turnovers_pG','free_throws_att_pG'], kind='bar');"
   ]
  },
  {
   "cell_type": "code",
   "execution_count": null,
   "metadata": {},
   "outputs": [],
   "source": [
    "dfruss_sub2 = dfruss_merged[['SEASON_ID', 'FG_PCT', 'FG3_PCT','FT_PCT' ]]\n",
    "dfruss_sub2"
   ]
  },
  {
   "cell_type": "code",
   "execution_count": null,
   "metadata": {},
   "outputs": [],
   "source": [
    "dfruss_sub2[::-1].plot(x='SEASON_ID', y =[ 'FG_PCT', 'FG3_PCT','FT_PCT']);"
   ]
  },
  {
   "cell_type": "code",
   "execution_count": null,
   "metadata": {},
   "outputs": [],
   "source": [
    "#harden plots"
   ]
  },
  {
   "cell_type": "code",
   "execution_count": null,
   "metadata": {},
   "outputs": [],
   "source": [
    "dfharden_sub = dfhard_merged[['SEASON_ID', 'points_pG', 'assists_pG','rebounds_pG','turnovers_pG','free_throws_att_pG' ]]\n",
    "dfhard_sub"
   ]
  },
  {
   "cell_type": "code",
   "execution_count": null,
   "metadata": {},
   "outputs": [],
   "source": [
    "dfharden_sub[::-1].plot(x='SEASON_ID', y =['points_pG', 'assists_pG','rebounds_pG', 'turnovers_pG','free_throws_att_pG'], kind='bar');"
   ]
  },
  {
   "cell_type": "code",
   "execution_count": null,
   "metadata": {},
   "outputs": [],
   "source": [
    "dfharden_sub2 = dfhard_merged[['SEASON_ID', 'FG_PCT', 'FG3_PCT','FT_PCT' ]]\n",
    "dfharden_sub2"
   ]
  },
  {
   "cell_type": "code",
   "execution_count": null,
   "metadata": {},
   "outputs": [],
   "source": [
    "dfharden_sub2[::-1].plot(x='SEASON_ID', y =[ 'FG_PCT', 'FG3_PCT','FT_PCT']);"
   ]
  },
  {
   "cell_type": "code",
   "execution_count": null,
   "metadata": {},
   "outputs": [],
   "source": [
    "#plotting for giannis"
   ]
  },
  {
   "cell_type": "code",
   "execution_count": null,
   "metadata": {},
   "outputs": [],
   "source": [
    "dfgiannis_sub = dfgiannis_merged[['SEASON_ID', 'points_pG', 'assists_pG','rebounds_pG','turnovers_pG','free_throws_att_pG' ]]\n",
    "dfgiannis_sub"
   ]
  },
  {
   "cell_type": "code",
   "execution_count": null,
   "metadata": {},
   "outputs": [],
   "source": [
    "dfgiannis_sub[::-1].plot(x='SEASON_ID', y =['points_pG', 'assists_pG','rebounds_pG', 'turnovers_pG','free_throws_att_pG'], kind='bar');"
   ]
  },
  {
   "cell_type": "code",
   "execution_count": null,
   "metadata": {},
   "outputs": [],
   "source": [
    "dfgiannis_sub2 = dfgiannis_merged[['SEASON_ID', 'FG_PCT', 'FG3_PCT','FT_PCT' ]]\n",
    "dfgiannis_sub2"
   ]
  },
  {
   "cell_type": "code",
   "execution_count": null,
   "metadata": {},
   "outputs": [],
   "source": [
    "dfgiannis_sub2[::-1].plot(x='SEASON_ID', y =[ 'FG_PCT', 'FG3_PCT','FT_PCT']);"
   ]
  },
  {
   "cell_type": "code",
   "execution_count": null,
   "metadata": {},
   "outputs": [],
   "source": []
  },
  {
   "cell_type": "code",
   "execution_count": null,
   "metadata": {},
   "outputs": [],
   "source": []
  },
  {
   "cell_type": "code",
   "execution_count": null,
   "metadata": {},
   "outputs": [],
   "source": []
  }
 ],
 "metadata": {
  "kernelspec": {
   "display_name": "Python 3",
   "language": "python",
   "name": "python3"
  },
  "language_info": {
   "codemirror_mode": {
    "name": "ipython",
    "version": 3
   },
   "file_extension": ".py",
   "mimetype": "text/x-python",
   "name": "python",
   "nbconvert_exporter": "python",
   "pygments_lexer": "ipython3",
   "version": "3.7.4"
  }
 },
 "nbformat": 4,
 "nbformat_minor": 2
}

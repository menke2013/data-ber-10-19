{
 "cells": [
  {
   "cell_type": "code",
   "execution_count": 55,
   "metadata": {},
   "outputs": [],
   "source": [
    "import requests\n",
    "import pandas as pd\n",
    "import numpy as np\n",
    "import json"
   ]
  },
  {
   "cell_type": "code",
   "execution_count": 56,
   "metadata": {},
   "outputs": [],
   "source": [
    "url = 'https://stats.nba.com/stats/assistleaders?LeagueID=00&PerMode=Totals&PlayerOrTeam=Player&Season=2018-19&SeasonType=Regular+Season'\n",
    "\n",
    "headers = {'user-agent': 'Mozilla/5.0 (Windows 10; Win64; x64) Chrome/38.0.2114.2 Safari/537.36'}"
   ]
  },
  {
   "cell_type": "code",
   "execution_count": 57,
   "metadata": {},
   "outputs": [],
   "source": [
    "test = requests.get(url, headers= headers)"
   ]
  },
  {
   "cell_type": "code",
   "execution_count": 58,
   "metadata": {},
   "outputs": [
    {
     "data": {
      "text/plain": [
       "200"
      ]
     },
     "execution_count": 58,
     "metadata": {},
     "output_type": "execute_result"
    }
   ],
   "source": [
    "test.status_code"
   ]
  },
  {
   "cell_type": "code",
   "execution_count": 71,
   "metadata": {},
   "outputs": [],
   "source": [
    "a = test.json()"
   ]
  },
  {
   "cell_type": "code",
   "execution_count": 101,
   "metadata": {},
   "outputs": [],
   "source": [
    "b = a['resultSets'].copy()"
   ]
  },
  {
   "cell_type": "code",
   "execution_count": 107,
   "metadata": {},
   "outputs": [
    {
     "data": {
      "text/plain": [
       "dict_keys(['name', 'headers', 'rowSet'])"
      ]
     },
     "execution_count": 107,
     "metadata": {},
     "output_type": "execute_result"
    }
   ],
   "source": [
    "b[0].keys()"
   ]
  },
  {
   "cell_type": "code",
   "execution_count": null,
   "metadata": {},
   "outputs": [],
   "source": []
  },
  {
   "cell_type": "code",
   "execution_count": 114,
   "metadata": {},
   "outputs": [],
   "source": [
    "c = b[0].copy()"
   ]
  },
  {
   "cell_type": "code",
   "execution_count": 118,
   "metadata": {},
   "outputs": [],
   "source": [
    "test98 = c['headers']"
   ]
  },
  {
   "cell_type": "code",
   "execution_count": 115,
   "metadata": {},
   "outputs": [
    {
     "data": {
      "text/plain": [
       "{'name': 'AssistLeaders',\n",
       " 'headers': ['RANK',\n",
       "  'PLAYER_ID',\n",
       "  'PLAYER',\n",
       "  'TEAM_ID',\n",
       "  'TEAM_ABBREVIATION',\n",
       "  'TEAM_NAME',\n",
       "  'JERSEY_NUM',\n",
       "  'PLAYER_POSITION',\n",
       "  'AST'],\n",
       " 'rowSet': [[1,\n",
       "   201566,\n",
       "   'Russell Westbrook',\n",
       "   1610612760,\n",
       "   'OKC',\n",
       "   'Oklahoma City Thunder',\n",
       "   '0',\n",
       "   'G',\n",
       "   784],\n",
       "  [2,\n",
       "   1629027,\n",
       "   'Trae Young',\n",
       "   1610612737,\n",
       "   'ATL',\n",
       "   'Atlanta Hawks',\n",
       "   '11',\n",
       "   'G',\n",
       "   653],\n",
       "  [3,\n",
       "   1627732,\n",
       "   'Ben Simmons',\n",
       "   1610612755,\n",
       "   'PHI',\n",
       "   'Philadelphia 76ers',\n",
       "   '25',\n",
       "   'G-F',\n",
       "   610],\n",
       "  [4,\n",
       "   1628368,\n",
       "   \"De'Aaron Fox\",\n",
       "   1610612758,\n",
       "   'SAC',\n",
       "   'Sacramento Kings',\n",
       "   '5',\n",
       "   'G',\n",
       "   590],\n",
       "  [5,\n",
       "   201935,\n",
       "   'James Harden',\n",
       "   1610612745,\n",
       "   'HOU',\n",
       "   'Houston Rockets',\n",
       "   '13',\n",
       "   'G',\n",
       "   586]]}"
      ]
     },
     "execution_count": 115,
     "metadata": {},
     "output_type": "execute_result"
    }
   ],
   "source": [
    "c"
   ]
  },
  {
   "cell_type": "code",
   "execution_count": null,
   "metadata": {},
   "outputs": [],
   "source": []
  },
  {
   "cell_type": "code",
   "execution_count": 116,
   "metadata": {},
   "outputs": [],
   "source": [
    "df99 = pd.DataFrame.from_dict(c['rowSet'])"
   ]
  },
  {
   "cell_type": "code",
   "execution_count": 117,
   "metadata": {},
   "outputs": [
    {
     "data": {
      "text/html": [
       "<div>\n",
       "<style scoped>\n",
       "    .dataframe tbody tr th:only-of-type {\n",
       "        vertical-align: middle;\n",
       "    }\n",
       "\n",
       "    .dataframe tbody tr th {\n",
       "        vertical-align: top;\n",
       "    }\n",
       "\n",
       "    .dataframe thead th {\n",
       "        text-align: right;\n",
       "    }\n",
       "</style>\n",
       "<table border=\"1\" class=\"dataframe\">\n",
       "  <thead>\n",
       "    <tr style=\"text-align: right;\">\n",
       "      <th></th>\n",
       "      <th>0</th>\n",
       "      <th>1</th>\n",
       "      <th>2</th>\n",
       "      <th>3</th>\n",
       "      <th>4</th>\n",
       "      <th>5</th>\n",
       "      <th>6</th>\n",
       "      <th>7</th>\n",
       "      <th>8</th>\n",
       "    </tr>\n",
       "  </thead>\n",
       "  <tbody>\n",
       "    <tr>\n",
       "      <th>0</th>\n",
       "      <td>1</td>\n",
       "      <td>201566</td>\n",
       "      <td>Russell Westbrook</td>\n",
       "      <td>1610612760</td>\n",
       "      <td>OKC</td>\n",
       "      <td>Oklahoma City Thunder</td>\n",
       "      <td>0</td>\n",
       "      <td>G</td>\n",
       "      <td>784</td>\n",
       "    </tr>\n",
       "    <tr>\n",
       "      <th>1</th>\n",
       "      <td>2</td>\n",
       "      <td>1629027</td>\n",
       "      <td>Trae Young</td>\n",
       "      <td>1610612737</td>\n",
       "      <td>ATL</td>\n",
       "      <td>Atlanta Hawks</td>\n",
       "      <td>11</td>\n",
       "      <td>G</td>\n",
       "      <td>653</td>\n",
       "    </tr>\n",
       "    <tr>\n",
       "      <th>2</th>\n",
       "      <td>3</td>\n",
       "      <td>1627732</td>\n",
       "      <td>Ben Simmons</td>\n",
       "      <td>1610612755</td>\n",
       "      <td>PHI</td>\n",
       "      <td>Philadelphia 76ers</td>\n",
       "      <td>25</td>\n",
       "      <td>G-F</td>\n",
       "      <td>610</td>\n",
       "    </tr>\n",
       "    <tr>\n",
       "      <th>3</th>\n",
       "      <td>4</td>\n",
       "      <td>1628368</td>\n",
       "      <td>De'Aaron Fox</td>\n",
       "      <td>1610612758</td>\n",
       "      <td>SAC</td>\n",
       "      <td>Sacramento Kings</td>\n",
       "      <td>5</td>\n",
       "      <td>G</td>\n",
       "      <td>590</td>\n",
       "    </tr>\n",
       "    <tr>\n",
       "      <th>4</th>\n",
       "      <td>5</td>\n",
       "      <td>201935</td>\n",
       "      <td>James Harden</td>\n",
       "      <td>1610612745</td>\n",
       "      <td>HOU</td>\n",
       "      <td>Houston Rockets</td>\n",
       "      <td>13</td>\n",
       "      <td>G</td>\n",
       "      <td>586</td>\n",
       "    </tr>\n",
       "  </tbody>\n",
       "</table>\n",
       "</div>"
      ],
      "text/plain": [
       "   0        1                  2           3    4                      5   6  \\\n",
       "0  1   201566  Russell Westbrook  1610612760  OKC  Oklahoma City Thunder   0   \n",
       "1  2  1629027         Trae Young  1610612737  ATL          Atlanta Hawks  11   \n",
       "2  3  1627732        Ben Simmons  1610612755  PHI     Philadelphia 76ers  25   \n",
       "3  4  1628368       De'Aaron Fox  1610612758  SAC       Sacramento Kings   5   \n",
       "4  5   201935       James Harden  1610612745  HOU        Houston Rockets  13   \n",
       "\n",
       "     7    8  \n",
       "0    G  784  \n",
       "1    G  653  \n",
       "2  G-F  610  \n",
       "3    G  590  \n",
       "4    G  586  "
      ]
     },
     "execution_count": 117,
     "metadata": {},
     "output_type": "execute_result"
    }
   ],
   "source": [
    "df99"
   ]
  },
  {
   "cell_type": "code",
   "execution_count": 119,
   "metadata": {},
   "outputs": [],
   "source": [
    "df99.columns = test98"
   ]
  },
  {
   "cell_type": "code",
   "execution_count": 120,
   "metadata": {},
   "outputs": [
    {
     "data": {
      "text/html": [
       "<div>\n",
       "<style scoped>\n",
       "    .dataframe tbody tr th:only-of-type {\n",
       "        vertical-align: middle;\n",
       "    }\n",
       "\n",
       "    .dataframe tbody tr th {\n",
       "        vertical-align: top;\n",
       "    }\n",
       "\n",
       "    .dataframe thead th {\n",
       "        text-align: right;\n",
       "    }\n",
       "</style>\n",
       "<table border=\"1\" class=\"dataframe\">\n",
       "  <thead>\n",
       "    <tr style=\"text-align: right;\">\n",
       "      <th></th>\n",
       "      <th>RANK</th>\n",
       "      <th>PLAYER_ID</th>\n",
       "      <th>PLAYER</th>\n",
       "      <th>TEAM_ID</th>\n",
       "      <th>TEAM_ABBREVIATION</th>\n",
       "      <th>TEAM_NAME</th>\n",
       "      <th>JERSEY_NUM</th>\n",
       "      <th>PLAYER_POSITION</th>\n",
       "      <th>AST</th>\n",
       "    </tr>\n",
       "  </thead>\n",
       "  <tbody>\n",
       "    <tr>\n",
       "      <th>0</th>\n",
       "      <td>1</td>\n",
       "      <td>201566</td>\n",
       "      <td>Russell Westbrook</td>\n",
       "      <td>1610612760</td>\n",
       "      <td>OKC</td>\n",
       "      <td>Oklahoma City Thunder</td>\n",
       "      <td>0</td>\n",
       "      <td>G</td>\n",
       "      <td>784</td>\n",
       "    </tr>\n",
       "    <tr>\n",
       "      <th>1</th>\n",
       "      <td>2</td>\n",
       "      <td>1629027</td>\n",
       "      <td>Trae Young</td>\n",
       "      <td>1610612737</td>\n",
       "      <td>ATL</td>\n",
       "      <td>Atlanta Hawks</td>\n",
       "      <td>11</td>\n",
       "      <td>G</td>\n",
       "      <td>653</td>\n",
       "    </tr>\n",
       "    <tr>\n",
       "      <th>2</th>\n",
       "      <td>3</td>\n",
       "      <td>1627732</td>\n",
       "      <td>Ben Simmons</td>\n",
       "      <td>1610612755</td>\n",
       "      <td>PHI</td>\n",
       "      <td>Philadelphia 76ers</td>\n",
       "      <td>25</td>\n",
       "      <td>G-F</td>\n",
       "      <td>610</td>\n",
       "    </tr>\n",
       "    <tr>\n",
       "      <th>3</th>\n",
       "      <td>4</td>\n",
       "      <td>1628368</td>\n",
       "      <td>De'Aaron Fox</td>\n",
       "      <td>1610612758</td>\n",
       "      <td>SAC</td>\n",
       "      <td>Sacramento Kings</td>\n",
       "      <td>5</td>\n",
       "      <td>G</td>\n",
       "      <td>590</td>\n",
       "    </tr>\n",
       "    <tr>\n",
       "      <th>4</th>\n",
       "      <td>5</td>\n",
       "      <td>201935</td>\n",
       "      <td>James Harden</td>\n",
       "      <td>1610612745</td>\n",
       "      <td>HOU</td>\n",
       "      <td>Houston Rockets</td>\n",
       "      <td>13</td>\n",
       "      <td>G</td>\n",
       "      <td>586</td>\n",
       "    </tr>\n",
       "  </tbody>\n",
       "</table>\n",
       "</div>"
      ],
      "text/plain": [
       "   RANK  PLAYER_ID             PLAYER     TEAM_ID TEAM_ABBREVIATION  \\\n",
       "0     1     201566  Russell Westbrook  1610612760               OKC   \n",
       "1     2    1629027         Trae Young  1610612737               ATL   \n",
       "2     3    1627732        Ben Simmons  1610612755               PHI   \n",
       "3     4    1628368       De'Aaron Fox  1610612758               SAC   \n",
       "4     5     201935       James Harden  1610612745               HOU   \n",
       "\n",
       "               TEAM_NAME JERSEY_NUM PLAYER_POSITION  AST  \n",
       "0  Oklahoma City Thunder          0               G  784  \n",
       "1          Atlanta Hawks         11               G  653  \n",
       "2     Philadelphia 76ers         25             G-F  610  \n",
       "3       Sacramento Kings          5               G  590  \n",
       "4        Houston Rockets         13               G  586  "
      ]
     },
     "execution_count": 120,
     "metadata": {},
     "output_type": "execute_result"
    }
   ],
   "source": [
    "df99"
   ]
  }
 ],
 "metadata": {
  "kernelspec": {
   "display_name": "Python 3",
   "language": "python",
   "name": "python3"
  },
  "language_info": {
   "codemirror_mode": {
    "name": "ipython",
    "version": 3
   },
   "file_extension": ".py",
   "mimetype": "text/x-python",
   "name": "python",
   "nbconvert_exporter": "python",
   "pygments_lexer": "ipython3",
   "version": "3.7.3"
  }
 },
 "nbformat": 4,
 "nbformat_minor": 2
}

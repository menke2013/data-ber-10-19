{
 "cells": [
  {
   "cell_type": "markdown",
   "metadata": {},
   "source": [
    "In the cell below, create a Python function that wraps your previous solution for the Bag of Words lab.\n",
    "\n",
    "Requirements:\n",
    "\n",
    "1. Your function should accept the following parameters:\n",
    "    * `docs` [REQUIRED] - array of document paths.\n",
    "    * `stop_words` [OPTIONAL] - array of stop words. The default value is an empty array.\n",
    "\n",
    "1. Your function should return a Python object that contains the following:\n",
    "    * `bag_of_words` - array of strings of normalized unique words in the corpus.\n",
    "    * `term_freq` - array of the term-frequency vectors."
   ]
  },
  {
   "cell_type": "code",
   "execution_count": 24,
   "metadata": {},
   "outputs": [],
   "source": [
    "# Import required libraries\n",
    "\n",
    "import sys\n",
    "\n",
    "\n",
    "\n",
    "\n",
    "# Define function\n",
    "def get_bow_from_docs(docs, stop_words):\n",
    "    \n",
    "    corpus = []\n",
    "    c1 =[]\n",
    "    \n",
    "    # In the function, first define the variables you will use such as `corpus`, `bag_of_words`, and `term_freq`.\n",
    "    \n",
    "    for doc in docs:\n",
    "        c1.append(open(doc, \"r\").read())\n",
    "        \n",
    "    for a in c1:\n",
    "        corpus.append(a.lower().replace(\".\",\"\"))\n",
    "    \n",
    "    #\"\"\"\n",
    "    #Loop `docs` and read the content of each doc into a string in `corpus`.\n",
    "    #Remember to convert the doc content to lowercases and remove punctuation.\n",
    "    #\"\"\"\n",
    "    \n",
    "    bag_of_words = []\n",
    "    \n",
    "    for b in corpus:\n",
    "        for c in b.split():\n",
    "            if c not in bag_of_words and c not in stop_words:\n",
    "                bag_of_words.append(c)\n",
    "                \n",
    "    \n",
    "                \n",
    "    \n",
    "    #\"\"\"\n",
    "    #Loop `corpus`. Append the terms in each doc into the `bag_of_words` array. The terms in `bag_of_words` \n",
    "    #should be unique which means before adding each term you need to check if it's already added to the array.\n",
    "    #In addition, check if each term is in the `stop_words` array. Only append the term to `bag_of_words`\n",
    "    #if it is not a stop word.\n",
    "    #\"\"\"\n",
    "    term_freq = []\n",
    "    for d in corpus:\n",
    "        freq =[]\n",
    "        for word in bag_of_words:\n",
    "            if (word in d.split()):\n",
    "                freq.append(1)\n",
    "            else:\n",
    "                freq.append(0)\n",
    "        term_freq.append(freq)\n",
    "    \n",
    "    \n",
    "    \n",
    "    #\"\"\"\n",
    "    #Loop `corpus` again. For each doc string, count the number of occurrences of each term in `bag_of_words`. \n",
    "    #Create an array for each doc's term frequency and append it to `term_freq`.\n",
    "    #\"\"\"\n",
    "\n",
    "    \n",
    "    \n",
    "    # Now return your output as an object\n",
    "    return {\n",
    "        \"bag_of_words\": bag_of_words,\n",
    "        \"term_freq\": term_freq\n",
    "    }\n",
    "    "
   ]
  },
  {
   "cell_type": "markdown",
   "metadata": {},
   "source": [
    "Test your function without stop words. You should see the output like below:\n",
    "\n",
    "```{'bag_of_words': ['ironhack', 'is', 'cool', 'i', 'love', 'am', 'a', 'student', 'at'], 'term_freq': [[1, 1, 1, 0, 0, 0, 0, 0, 0], [1, 0, 0, 1, 1, 0, 0, 0, 0], [1, 0, 0, 1, 0, 1, 1, 1, 1]]}```"
   ]
  },
  {
   "cell_type": "code",
   "execution_count": 25,
   "metadata": {},
   "outputs": [
    {
     "name": "stdout",
     "output_type": "stream",
     "text": [
      "{'bag_of_words': ['ironhack', 'is', 'cool', 'i', 'love', 'am', 'a', 'student', 'at'], 'term_freq': [[1, 1, 1, 0, 0, 0, 0, 0, 0], [1, 0, 0, 1, 1, 0, 0, 0, 0], [1, 0, 0, 1, 0, 1, 1, 1, 1]]}\n"
     ]
    }
   ],
   "source": [
    "# Define doc paths array\n",
    "docs = ['doc1.txt', 'doc2.txt', 'doc3.txt']\n",
    "stop_words = []\n",
    "# Obtain BoW from your function\n",
    "bow = get_bow_from_docs(docs,stop_words)\n",
    "\n",
    "# Print BoW\n",
    "print(bow)"
   ]
  },
  {
   "cell_type": "markdown",
   "metadata": {},
   "source": [
    "If your attempt above is successful, nice work done!\n",
    "\n",
    "Now test your function again with the stop words. In the previous lab we defined the stop words in a large array. In this lab, we'll import the stop words from Scikit-Learn."
   ]
  },
  {
   "cell_type": "code",
   "execution_count": 26,
   "metadata": {},
   "outputs": [
    {
     "name": "stdout",
     "output_type": "stream",
     "text": [
      "frozenset({'whole', 'eg', 'us', 'must', 'mine', 'cry', 'former', 'myself', 'often', 'fifty', 'them', 'nevertheless', 'will', 'seems', 'de', 'becomes', 'mostly', 'whereby', 'go', 'that', 'about', 'your', 'might', 'could', 'though', 'become', 'ourselves', 'over', 'whoever', 'via', 'had', 'also', 'were', 'same', 'off', 'as', 'less', 'twenty', 'at', 'back', 'well', 'ltd', 'least', 'after', 'each', 'has', 'too', 'which', 'these', 'its', 'due', 'call', 'neither', 'would', 'together', 'how', 'by', 'the', 'themselves', 'wherever', 'mill', 'somehow', 'have', 'meanwhile', 'in', 'up', 'he', 'my', 'nine', 'through', 'yet', 'indeed', 'formerly', 'her', 'hundred', 'can', 'moreover', 'behind', 'either', 'whose', 'please', 'whereas', 'ours', 'any', 're', 'from', 'bottom', 'because', 'perhaps', 'somewhere', 'be', 'fire', 'an', 'once', 'already', 'sometimes', 'upon', 'became', 'un', 'but', 'me', 'therefore', 'three', 'across', 'amount', 'among', 'been', 'afterwards', 'why', 'although', 'so', 'own', 'done', 'wherein', 'again', 'most', 'even', 'made', 'keep', 'except', 'it', 'beyond', 'namely', 'being', 'of', 'under', 'who', 'further', 'before', 'whither', 'to', 'almost', 'fifteen', 'part', 'without', 'thin', 'below', 'rather', 'ever', 'on', 'still', 'hers', 'nor', 'anyway', 'front', 'herself', 'beside', 'anyhow', 'whether', 'empty', 'whatever', 'nothing', 'hereupon', 'find', 'am', 'since', 'hereby', 'sincere', 'toward', 'one', 'else', 'both', 'amongst', 'besides', 'into', 'name', 'whom', 'ie', 'many', 'cant', 'fill', 'only', 'thus', 'much', 'few', 'six', 'they', 'everywhere', 'whence', 'more', 'was', 'during', 'cannot', 'every', 'yourself', 'herein', 'thereafter', 'she', 'our', 'sometime', 'inc', 'their', 'thick', 'very', 'however', 'whereafter', 'move', 'get', 'top', 'thereby', 'always', 'eight', 'bill', 'within', 'serious', 'is', 'sixty', 'with', 'may', 'when', 'latterly', 'seeming', 'out', 'detail', 'system', 'we', 'eleven', 'than', 'throughout', 'four', 'now', 'itself', 'alone', 'such', 'if', 'give', 'co', 'against', 'twelve', 'nowhere', 'seem', 'therein', 'interest', 'others', 'take', 'third', 'or', 'anywhere', 'anyone', 'whereupon', 'there', 'beforehand', 'until', 'none', 'yours', 'elsewhere', 'not', 'should', 'becoming', 'never', 'thru', 'anything', 'etc', 'are', 'thence', 'do', 'another', 'latter', 'ten', 'then', 'put', 'side', 'con', 'this', 'and', 'thereupon', 'several', 'along', 'towards', 'you', 'couldnt', 'hence', 'otherwise', 'five', 'around', 'found', 'noone', 'while', 'those', 'enough', 'above', 'two', 'some', 'his', 'describe', 'all', 'see', 'everything', 'nobody', 'full', 'everyone', 'a', 'here', 'seemed', 'first', 'other', 'for', 'last', 'amoungst', 'himself', 'next', 'i', 'forty', 'onto', 'between', 'him', 'per', 'someone', 'down', 'hasnt', 'what', 'hereafter', 'show', 'something', 'no', 'whenever', 'where', 'yourselves'})\n"
     ]
    },
    {
     "data": {
      "text/plain": [
       "frozenset"
      ]
     },
     "execution_count": 26,
     "metadata": {},
     "output_type": "execute_result"
    }
   ],
   "source": [
    "from sklearn.feature_extraction import stop_words\n",
    "print(stop_words.ENGLISH_STOP_WORDS)\n",
    "type(stop_words.ENGLISH_STOP_WORDS)\n"
   ]
  },
  {
   "cell_type": "markdown",
   "metadata": {},
   "source": [
    "You should have seen a large list of words that looks like:\n",
    "\n",
    "```frozenset({'across', 'mine', 'cannot', ...})```\n",
    "\n",
    "`frozenset` is a type of Python object that is immutable. In this lab you can use it just like an array without conversion."
   ]
  },
  {
   "cell_type": "markdown",
   "metadata": {},
   "source": [
    "Next, test your function with supplying `stop_words.ENGLISH_STOP_WORDS` as the second parameter."
   ]
  },
  {
   "cell_type": "code",
   "execution_count": 27,
   "metadata": {},
   "outputs": [
    {
     "name": "stdout",
     "output_type": "stream",
     "text": [
      "{'bag_of_words': ['ironhack', 'cool', 'love', 'student'], 'term_freq': [[1, 1, 0, 0], [1, 0, 1, 0], [1, 0, 0, 1]]}\n"
     ]
    }
   ],
   "source": [
    "docs = ['doc1.txt', 'doc2.txt', 'doc3.txt']\n",
    "\n",
    "\n",
    "bow = get_bow_from_docs(docs, stop_words.ENGLISH_STOP_WORDS)\n",
    "\n",
    "print(bow)"
   ]
  },
  {
   "cell_type": "markdown",
   "metadata": {},
   "source": [
    "You should have seen:\n",
    "\n",
    "```{'bag_of_words': ['ironhack', 'cool', 'love', 'student'], 'term_freq': [[1, 1, 0, 0], [1, 0, 1, 0], [1, 0, 0, 1]]}```"
   ]
  },
  {
   "cell_type": "code",
   "execution_count": null,
   "metadata": {},
   "outputs": [],
   "source": []
  }
 ],
 "metadata": {
  "kernelspec": {
   "display_name": "Python 3",
   "language": "python",
   "name": "python3"
  },
  "language_info": {
   "codemirror_mode": {
    "name": "ipython",
    "version": 3
   },
   "file_extension": ".py",
   "mimetype": "text/x-python",
   "name": "python",
   "nbconvert_exporter": "python",
   "pygments_lexer": "ipython3",
   "version": "3.7.3"
  }
 },
 "nbformat": 4,
 "nbformat_minor": 2
}

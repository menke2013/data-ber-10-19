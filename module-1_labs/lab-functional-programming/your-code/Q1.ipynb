{
 "cells": [
  {
   "cell_type": "markdown",
   "metadata": {},
   "source": [
    "In the cell below, create a Python function that wraps your previous solution for the Bag of Words lab.\n",
    "\n",
    "Requirements:\n",
    "\n",
    "1. Your function should accept the following parameters:\n",
    "    * `docs` [REQUIRED] - array of document paths.\n",
    "    * `stop_words` [OPTIONAL] - array of stop words. The default value is an empty array.\n",
    "\n",
    "1. Your function should return a Python object that contains the following:\n",
    "    * `bag_of_words` - array of strings of normalized unique words in the corpus.\n",
    "    * `term_freq` - array of the term-frequency vectors."
   ]
  },
  {
   "cell_type": "code",
   "execution_count": 1,
   "metadata": {},
   "outputs": [],
   "source": [
    "# Import required libraries\n",
    "\n",
    "import sys\n",
    "\n",
    "\n",
    "\n",
    "\n",
    "# Define function\n",
    "def get_bow_from_docs(docs, stop_words):\n",
    "    \n",
    "    corpus = []\n",
    "    c1 =[]\n",
    "    \n",
    "    # In the function, first define the variables you will use such as `corpus`, `bag_of_words`, and `term_freq`.\n",
    "    \n",
    "    for doc in docs:\n",
    "        c1.append(open(doc, \"r\").read())\n",
    "        \n",
    "    for a in c1:\n",
    "        corpus.append(a.lower().replace(\".\",\"\"))\n",
    "    \n",
    "    #\"\"\"\n",
    "    #Loop `docs` and read the content of each doc into a string in `corpus`.\n",
    "    #Remember to convert the doc content to lowercases and remove punctuation.\n",
    "    #\"\"\"\n",
    "    \n",
    "    bag_of_words = []\n",
    "    \n",
    "    for b in corpus:\n",
    "        for c in b.split():\n",
    "            if c not in bag_of_words and c not in stop_words:\n",
    "                bag_of_words.append(c)\n",
    "                \n",
    "    \n",
    "                \n",
    "    \n",
    "    #\"\"\"\n",
    "    #Loop `corpus`. Append the terms in each doc into the `bag_of_words` array. The terms in `bag_of_words` \n",
    "    #should be unique which means before adding each term you need to check if it's already added to the array.\n",
    "    #In addition, check if each term is in the `stop_words` array. Only append the term to `bag_of_words`\n",
    "    #if it is not a stop word.\n",
    "    #\"\"\"\n",
    "    term_freq = []\n",
    "    for d in corpus:\n",
    "        freq =[]\n",
    "        for word in bag_of_words:\n",
    "            if (word in d.split()):\n",
    "                freq.append(1)\n",
    "            else:\n",
    "                freq.append(0)\n",
    "        term_freq.append(freq)\n",
    "    \n",
    "    \n",
    "    \n",
    "    #\"\"\"\n",
    "    #Loop `corpus` again. For each doc string, count the number of occurrences of each term in `bag_of_words`. \n",
    "    #Create an array for each doc's term frequency and append it to `term_freq`.\n",
    "    #\"\"\"\n",
    "\n",
    "    \n",
    "    \n",
    "    # Now return your output as an object\n",
    "    return {\n",
    "        \"bag_of_words\": bag_of_words,\n",
    "        \"term_freq\": term_freq\n",
    "    }\n",
    "    "
   ]
  },
  {
   "cell_type": "markdown",
   "metadata": {},
   "source": [
    "Test your function without stop words. You should see the output like below:\n",
    "\n",
    "```{'bag_of_words': ['ironhack', 'is', 'cool', 'i', 'love', 'am', 'a', 'student', 'at'], 'term_freq': [[1, 1, 1, 0, 0, 0, 0, 0, 0], [1, 0, 0, 1, 1, 0, 0, 0, 0], [1, 0, 0, 1, 0, 1, 1, 1, 1]]}```"
   ]
  },
  {
   "cell_type": "code",
   "execution_count": 2,
   "metadata": {},
   "outputs": [
    {
     "name": "stdout",
     "output_type": "stream",
     "text": [
      "{'bag_of_words': ['ironhack', 'is', 'cool', 'i', 'love', 'am', 'a', 'student', 'at'], 'term_freq': [[1, 1, 1, 0, 0, 0, 0, 0, 0], [1, 0, 0, 1, 1, 0, 0, 0, 0], [1, 0, 0, 1, 0, 1, 1, 1, 1]]}\n"
     ]
    }
   ],
   "source": [
    "# Define doc paths array\n",
    "docs = ['doc1.txt', 'doc2.txt', 'doc3.txt']\n",
    "stop_words = []\n",
    "# Obtain BoW from your function\n",
    "bow = get_bow_from_docs(docs,stop_words)\n",
    "\n",
    "# Print BoW\n",
    "print(bow)"
   ]
  },
  {
   "cell_type": "markdown",
   "metadata": {},
   "source": [
    "If your attempt above is successful, nice work done!\n",
    "\n",
    "Now test your function again with the stop words. In the previous lab we defined the stop words in a large array. In this lab, we'll import the stop words from Scikit-Learn."
   ]
  },
  {
   "cell_type": "code",
   "execution_count": 3,
   "metadata": {},
   "outputs": [
    {
     "name": "stdout",
     "output_type": "stream",
     "text": [
      "frozenset({'them', 'rather', 'hasnt', 'about', 'be', 'how', 'something', 'though', 'between', 'all', 'last', 'yet', 'others', 'first', 'bill', 'in', 'wherever', 'becoming', 'else', 'there', 'him', 'describe', 'too', 'thick', 'very', 'such', 'as', 'throughout', 'much', 'few', 'amount', 'their', 'become', 'thru', 'cannot', 'have', 'nothing', 'onto', 'thence', 'hundred', 'he', 'formerly', 'part', 'un', 'latterly', 'whence', 'take', 'eleven', 'afterwards', 'own', 'eg', 'around', 'were', 'must', 'off', 'wherein', 'full', 'ie', 'further', 'however', 'thereafter', 'they', 'noone', 'so', 'seem', 'ltd', 'that', 'system', 'eight', 'nobody', 'detail', 'any', 'ourselves', 'is', 'who', 'perhaps', 'whose', 'over', 'fifteen', 'ours', 'may', 'three', 'then', 'empty', 'are', 'none', 'amoungst', 'into', 'least', 'nowhere', 'found', 'where', 'one', 'here', 'find', 'after', 'through', 'whether', 'has', 'hers', 'what', 'forty', 'well', 'therein', 'whereupon', 'along', 'get', 'will', 'etc', 'being', 'beside', 'on', 'whither', 'of', 'other', 'interest', 'behind', 'twenty', 'each', 'someone', 'former', 'out', 'myself', 'below', 'toward', 'why', 'namely', 'within', 'mill', 'enough', 'by', 'same', 'twelve', 'before', 'ten', 'i', 'could', 'a', 'his', 'meanwhile', 'go', 'from', 'you', 'whoever', 'next', 'am', 'seeming', 'mostly', 'my', 'fill', 'me', 'seemed', 'only', 'every', 'show', 'herein', 'couldnt', 'besides', 'this', 'her', 'without', 'sometimes', 'often', 'top', 'hereafter', 'sixty', 'became', 'whom', 'whereby', 'yours', 'except', 'anything', 'two', 'ever', 'per', 'us', 'down', 'because', 'via', 'everyone', 'see', 'themselves', 'five', 'towards', 'against', 'your', 'its', 'thereby', 'hence', 'herself', 'until', 'for', 'cant', 'more', 'while', 'yourself', 'call', 'she', 'inc', 'which', 'thereupon', 'should', 'fifty', 'otherwise', 'neither', 'done', 'himself', 'several', 'alone', 'hereby', 'at', 'keep', 'amongst', 'it', 'nine', 'whenever', 'since', 'bottom', 'might', 'do', 'now', 'name', 'above', 'moreover', 'everywhere', 'almost', 'under', 'anywhere', 'nor', 'many', 'not', 'serious', 'and', 'still', 'move', 'whereafter', 'itself', 'can', 'either', 'another', 'across', 'give', 'somewhere', 'some', 'but', 'up', 'again', 'the', 'becomes', 'thus', 'with', 'less', 'somehow', 'once', 'both', 'whole', 'these', 'third', 'we', 'made', 'nevertheless', 'side', 'no', 'to', 'indeed', 'whatever', 'front', 'co', 'con', 'mine', 'de', 'four', 'fire', 'among', 'whereas', 'already', 'when', 'although', 'yourselves', 'therefore', 'hereupon', 'would', 'upon', 'latter', 'everything', 'our', 'sincere', 'never', 'even', 'thin', 'also', 're', 'an', 'beyond', 'most', 'due', 'back', 'always', 'cry', 'during', 'was', 'had', 'elsewhere', 'together', 'anyone', 'than', 'or', 'six', 'please', 'sometime', 'if', 'been', 'seems', 'beforehand', 'put', 'those', 'anyhow', 'anyway'})\n"
     ]
    },
    {
     "data": {
      "text/plain": [
       "frozenset"
      ]
     },
     "execution_count": 3,
     "metadata": {},
     "output_type": "execute_result"
    }
   ],
   "source": [
    "from sklearn.feature_extraction import stop_words\n",
    "print(stop_words.ENGLISH_STOP_WORDS)\n",
    "type(stop_words.ENGLISH_STOP_WORDS)\n"
   ]
  },
  {
   "cell_type": "markdown",
   "metadata": {},
   "source": [
    "You should have seen a large list of words that looks like:\n",
    "\n",
    "```frozenset({'across', 'mine', 'cannot', ...})```\n",
    "\n",
    "`frozenset` is a type of Python object that is immutable. In this lab you can use it just like an array without conversion."
   ]
  },
  {
   "cell_type": "markdown",
   "metadata": {},
   "source": [
    "Next, test your function with supplying `stop_words.ENGLISH_STOP_WORDS` as the second parameter."
   ]
  },
  {
   "cell_type": "code",
   "execution_count": 4,
   "metadata": {},
   "outputs": [
    {
     "name": "stdout",
     "output_type": "stream",
     "text": [
      "{'bag_of_words': ['ironhack', 'cool', 'love', 'student'], 'term_freq': [[1, 1, 0, 0], [1, 0, 1, 0], [1, 0, 0, 1]]}\n"
     ]
    }
   ],
   "source": [
    "docs = ['doc1.txt', 'doc2.txt', 'doc3.txt']\n",
    "\n",
    "\n",
    "bow = get_bow_from_docs(docs, stop_words.ENGLISH_STOP_WORDS)\n",
    "\n",
    "print(bow)"
   ]
  },
  {
   "cell_type": "markdown",
   "metadata": {},
   "source": [
    "You should have seen:\n",
    "\n",
    "```{'bag_of_words': ['ironhack', 'cool', 'love', 'student'], 'term_freq': [[1, 1, 0, 0], [1, 0, 1, 0], [1, 0, 0, 1]]}```"
   ]
  },
  {
   "cell_type": "code",
   "execution_count": null,
   "metadata": {},
   "outputs": [],
   "source": []
  }
 ],
 "metadata": {
  "kernelspec": {
   "display_name": "Python 3",
   "language": "python",
   "name": "python3"
  },
  "language_info": {
   "codemirror_mode": {
    "name": "ipython",
    "version": 3
   },
   "file_extension": ".py",
   "mimetype": "text/x-python",
   "name": "python",
   "nbconvert_exporter": "python",
   "pygments_lexer": "ipython3",
   "version": "3.7.3"
  }
 },
 "nbformat": 4,
 "nbformat_minor": 4
}
